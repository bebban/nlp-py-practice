{
 "cells": [
  {
   "cell_type": "markdown",
   "metadata": {},
   "source": [
    "# NLP Basics"
   ]
  },
  {
   "cell_type": "markdown",
   "metadata": {},
   "source": [
    "# Stemming\n",
    "with NLTK"
   ]
  },
  {
   "cell_type": "code",
   "execution_count": 1,
   "metadata": {},
   "outputs": [],
   "source": [
    "# Import the toolkit and the full Porter Stemmer library\n",
    "import nltk"
   ]
  },
  {
   "cell_type": "code",
   "execution_count": 2,
   "metadata": {},
   "outputs": [
    {
     "name": "stdout",
     "output_type": "stream",
     "text": [
      "quickly  -->   quickli\n",
      "jumps  -->   jump\n",
      "minimally  -->   minim\n",
      "better  -->   better\n"
     ]
    }
   ],
   "source": [
    "from nltk.stem.porter import *\n",
    "p_stemmer = PorterStemmer()\n",
    "words = ['quickly', 'jumps', 'minimally', 'better']\n",
    "\n",
    "for word in words:\n",
    "    print(word + '  -->   ' + p_stemmer.stem(word))"
   ]
  },
  {
   "cell_type": "code",
   "execution_count": 3,
   "metadata": {},
   "outputs": [
    {
     "name": "stdout",
     "output_type": "stream",
     "text": [
      "quickly  -->   quick\n",
      "jumps  -->   jump\n",
      "minimally  -->   minim\n",
      "better  -->   better\n"
     ]
    }
   ],
   "source": [
    "from nltk.stem.snowball import SnowballStemmer\n",
    "\n",
    "s_stemmer = SnowballStemmer(language='english')\n",
    "for word in words:\n",
    "    print(word + '  -->   ' + s_stemmer.stem(word))"
   ]
  },
  {
   "cell_type": "markdown",
   "metadata": {},
   "source": [
    "# spaCy Basics \n",
    "tokenisation, pos-tagging, dep-parsing, sentence segmentation, stop words"
   ]
  },
  {
   "cell_type": "code",
   "execution_count": 4,
   "metadata": {},
   "outputs": [
    {
     "data": {
      "text/plain": [
       "[('tagger', <spacy.pipeline.pipes.Tagger at 0x7fd3b2312860>),\n",
       " ('parser', <spacy.pipeline.pipes.DependencyParser at 0x7fd3b2168d08>),\n",
       " ('ner', <spacy.pipeline.pipes.EntityRecognizer at 0x7fd3b2168d68>)]"
      ]
     },
     "execution_count": 4,
     "metadata": {},
     "output_type": "execute_result"
    }
   ],
   "source": [
    "import spacy\n",
    "\n",
    "# load english language model\n",
    "nlp = spacy.load('en_core_web_sm')\n",
    "\n",
    "# check pipeline\n",
    "nlp.pipeline"
   ]
  },
  {
   "cell_type": "code",
   "execution_count": 5,
   "metadata": {},
   "outputs": [
    {
     "data": {
      "text/plain": [
       "['tagger', 'parser', 'ner']"
      ]
     },
     "execution_count": 5,
     "metadata": {},
     "output_type": "execute_result"
    }
   ],
   "source": [
    "# pipeline component names\n",
    "nlp.pipe_names"
   ]
  },
  {
   "cell_type": "code",
   "execution_count": 6,
   "metadata": {},
   "outputs": [],
   "source": [
    "# create a Doc object, pass it a unicode string\n",
    "doc = nlp(u'Instant coffee with slightly sour cream\\nin it, and a phone call to the beyond\\nwhich doesn’t seem to be' + \n",
    "          'coming any nearer.\\n“Ah daddy, I wanna stay drunk many days”\\non the poetry of a new friend\\n' + \n",
    "          'my life held precariously in the seeing\\nhands of others, their and my impossibilities.' + \n",
    "          '\\nIs this love, now that the first love\\nhas finally died, where there were no impossibilities?')"
   ]
  },
  {
   "cell_type": "code",
   "execution_count": 7,
   "metadata": {},
   "outputs": [
    {
     "data": {
      "text/plain": [
       "spacy.tokens.doc.Doc"
      ]
     },
     "execution_count": 7,
     "metadata": {},
     "output_type": "execute_result"
    }
   ],
   "source": [
    "type(doc)"
   ]
  },
  {
   "cell_type": "code",
   "execution_count": 8,
   "metadata": {},
   "outputs": [
    {
     "name": "stdout",
     "output_type": "stream",
     "text": [
      "Instant ADJ amod\n",
      "coffee NOUN ROOT\n",
      "with ADP prep\n",
      "slightly ADV advmod\n",
      "sour ADJ amod\n",
      "cream NOUN pobj\n",
      "\n",
      " SPACE \n"
     ]
    }
   ],
   "source": [
    "# tokenisation and dependency parsing \n",
    "# print each token with pos and dep type\n",
    "for token in doc[0:7]:\n",
    "    print(token.text, token.pos_, token.dep_)"
   ]
  },
  {
   "cell_type": "code",
   "execution_count": 9,
   "metadata": {},
   "outputs": [
    {
     "data": {
      "text/plain": [
       "86"
      ]
     },
     "execution_count": 9,
     "metadata": {},
     "output_type": "execute_result"
    }
   ],
   "source": [
    "# number of tokens in the Doc object\n",
    "len(doc)"
   ]
  },
  {
   "cell_type": "code",
   "execution_count": 10,
   "metadata": {},
   "outputs": [
    {
     "data": {
      "text/plain": [
       "529"
      ]
     },
     "execution_count": 10,
     "metadata": {},
     "output_type": "execute_result"
    }
   ],
   "source": [
    "len(doc.vocab)"
   ]
  },
  {
   "cell_type": "code",
   "execution_count": 11,
   "metadata": {},
   "outputs": [
    {
     "data": {
      "text/plain": [
       "(and, 'and')"
      ]
     },
     "execution_count": 11,
     "metadata": {},
     "output_type": "execute_result"
    }
   ],
   "source": [
    "# access tokens by index\n",
    "doc[10], doc[10].text"
   ]
  },
  {
   "cell_type": "code",
   "execution_count": 12,
   "metadata": {},
   "outputs": [
    {
     "data": {
      "text/plain": [
       "and a phone"
      ]
     },
     "execution_count": 12,
     "metadata": {},
     "output_type": "execute_result"
    }
   ],
   "source": [
    "# access some tokens\n",
    "doc[10:13]"
   ]
  },
  {
   "cell_type": "code",
   "execution_count": 13,
   "metadata": {},
   "outputs": [
    {
     "data": {
      "text/plain": [
       "there were no impossibilities?"
      ]
     },
     "execution_count": 13,
     "metadata": {},
     "output_type": "execute_result"
    }
   ],
   "source": [
    "# access last 5 tokens\n",
    "doc[-5:]"
   ]
  },
  {
   "cell_type": "code",
   "execution_count": 14,
   "metadata": {},
   "outputs": [],
   "source": [
    "# tokens cannot be reassigned -- TypeError: 'spacy.tokens.doc.Doc' object does not support item assignment\n",
    "#doc[0] = \"Ground\""
   ]
  },
  {
   "cell_type": "code",
   "execution_count": 15,
   "metadata": {},
   "outputs": [
    {
     "data": {
      "text/plain": [
       "('coffee', 92, 'NOUN')"
      ]
     },
     "execution_count": 15,
     "metadata": {},
     "output_type": "execute_result"
    }
   ],
   "source": [
    "# pos-tags have special ids\n",
    "doc[1].text, doc[1].pos, doc[1].pos_"
   ]
  },
  {
   "cell_type": "code",
   "execution_count": 16,
   "metadata": {},
   "outputs": [
    {
     "data": {
      "text/plain": [
       "('Instant', 402, 'amod')"
      ]
     },
     "execution_count": 16,
     "metadata": {},
     "output_type": "execute_result"
    }
   ],
   "source": [
    "# as do dep-tags\n",
    "doc[0].text, doc[0].dep, doc[0].dep_"
   ]
  },
  {
   "cell_type": "code",
   "execution_count": 17,
   "metadata": {},
   "outputs": [
    {
     "data": {
      "text/plain": [
       "'adjectival modifier'"
      ]
     },
     "execution_count": 17,
     "metadata": {},
     "output_type": "execute_result"
    }
   ],
   "source": [
    "# to see full name of a tag, use spacy.explain()\n",
    "spacy.explain('amod')"
   ]
  },
  {
   "cell_type": "code",
   "execution_count": 18,
   "metadata": {},
   "outputs": [
    {
     "data": {
      "text/plain": [
       "'adjective'"
      ]
     },
     "execution_count": 18,
     "metadata": {},
     "output_type": "execute_result"
    }
   ],
   "source": [
    "spacy.explain('ADJ')"
   ]
  },
  {
   "cell_type": "code",
   "execution_count": 19,
   "metadata": {},
   "outputs": [
    {
     "data": {
      "text/plain": [
       "('seem', 'VERB', 'VB', 'verb, base form')"
      ]
     },
     "execution_count": 19,
     "metadata": {},
     "output_type": "execute_result"
    }
   ],
   "source": [
    "# other token attributes\n",
    "# simple  and detailed pos-tags\n",
    "doc[21].text, doc[21].pos_, doc[21].tag_, spacy.explain(doc[21].tag_)"
   ]
  },
  {
   "cell_type": "code",
   "execution_count": 20,
   "metadata": {},
   "outputs": [
    {
     "data": {
      "text/plain": [
       "True"
      ]
     },
     "execution_count": 20,
     "metadata": {},
     "output_type": "execute_result"
    }
   ],
   "source": [
    "# is the token a stop word\n",
    "doc[21].is_stop "
   ]
  },
  {
   "cell_type": "code",
   "execution_count": 21,
   "metadata": {},
   "outputs": [
    {
     "data": {
      "text/plain": [
       "('Instant', 'Xxxxx')"
      ]
     },
     "execution_count": 21,
     "metadata": {},
     "output_type": "execute_result"
    }
   ],
   "source": [
    "# shape of the word form\n",
    "doc[0].text, doc[0].shape_"
   ]
  },
  {
   "cell_type": "code",
   "execution_count": 22,
   "metadata": {},
   "outputs": [
    {
     "data": {
      "text/plain": [
       "('nearer', 'nearer')"
      ]
     },
     "execution_count": 22,
     "metadata": {},
     "output_type": "execute_result"
    }
   ],
   "source": [
    "# lemmatisation\n",
    "doc[25].text, doc[25].lemma_"
   ]
  },
  {
   "cell_type": "code",
   "execution_count": 23,
   "metadata": {},
   "outputs": [
    {
     "data": {
      "text/plain": [
       "{84: 6,\n",
       " 92: 18,\n",
       " 85: 8,\n",
       " 86: 5,\n",
       " 103: 8,\n",
       " 95: 3,\n",
       " 97: 10,\n",
       " 89: 2,\n",
       " 90: 13,\n",
       " 87: 4,\n",
       " 94: 1,\n",
       " 100: 6,\n",
       " 91: 1,\n",
       " 98: 1}"
      ]
     },
     "execution_count": 23,
     "metadata": {},
     "output_type": "execute_result"
    }
   ],
   "source": [
    "# count POS frequencies\n",
    "POS_counts = doc.count_by(spacy.attrs.POS)\n",
    "POS_counts"
   ]
  },
  {
   "cell_type": "code",
   "execution_count": 24,
   "metadata": {},
   "outputs": [
    {
     "data": {
      "text/plain": [
       "'DET'"
      ]
     },
     "execution_count": 24,
     "metadata": {},
     "output_type": "execute_result"
    }
   ],
   "source": [
    "# find out what pos belongs to an id\n",
    "doc.vocab[90].text"
   ]
  },
  {
   "cell_type": "code",
   "execution_count": 25,
   "metadata": {},
   "outputs": [
    {
     "name": "stdout",
     "output_type": "stream",
     "text": [
      "   84: ADJ   -- 6\n",
      "   85: ADP   -- 8\n",
      "   86: ADV   -- 5\n",
      "   87: AUX   -- 4\n",
      "   89: CCONJ -- 2\n",
      "   90: DET   -- 13\n",
      "   91: INTJ  -- 1\n",
      "   92: NOUN  -- 18\n",
      "   94: PART  -- 1\n",
      "   95: PRON  -- 3\n",
      "   97: PUNCT -- 10\n",
      "   98: SCONJ -- 1\n",
      "  100: VERB  -- 6\n",
      "  103: SPACE -- 8\n"
     ]
    }
   ],
   "source": [
    "# create frequency list for POS-tags\n",
    "for k,v in sorted(POS_counts.items()):\n",
    "    print(f'{k:{5}}: {doc.vocab[k].text:{5}} -- {v}')"
   ]
  },
  {
   "cell_type": "code",
   "execution_count": 26,
   "metadata": {},
   "outputs": [
    {
     "name": "stdout",
     "output_type": "stream",
     "text": [
      "  164681854541413346: RB   (adverb) ---5\n",
      "  783433942507015291: NNS  (noun, plural) ---5\n",
      " 1292078113972184607: IN   (conjunction, subordinating or preposition) ---9\n",
      " 1534113631682161808: VBG  (verb, gerund or present participle) ---1\n",
      " 2593208677638477497: ,    (punctuation mark, comma) ---5\n",
      " 3252815442139690129: UH   (interjection) ---1\n",
      " 3822385049556375858: VBN  (verb, past participle) ---2\n",
      " 4062917326063685704: PRP$ (pronoun, possessive) ---3\n",
      " 4969857429396651903: ``   (opening quotation mark) ---1\n",
      " 6893682062797376370: _SP  (None) ---8\n",
      " 9188597074677201817: VBP  (verb, non-3rd person singular present) ---1\n",
      "10554686591937588953: JJ   (adjective) ---6\n",
      "12646065887601541794: .    (punctuation mark, sentence closer) ---3\n",
      "13656873538139661788: PRP  (pronoun, personal) ---2\n",
      "13927759927860985106: VBZ  (verb, 3rd person singular present) ---3\n",
      "14143520107006108953: ''   (closing quotation mark) ---1\n",
      "14200088355797579614: VB   (verb, base form) ---1\n",
      "15267657372422890137: DT   (determiner) ---9\n",
      "15308085513773655218: NN   (noun, singular or mass) --13\n",
      "15361090031084224697: EX   (existential there) ---1\n",
      "16235386156175103506: MD   (verb, modal auxiliary) ---1\n",
      "17109001835818727656: VBD  (verb, past tense) ---1\n",
      "17202369883303991778: WDT  (wh-determiner) ---1\n",
      "17524233984504158541: WRB  (wh-adverb) ---1\n",
      "17571114184892886314: CC   (conjunction, coordinating) ---2\n"
     ]
    }
   ],
   "source": [
    "# create frequency list for FINE-GRAINED POS-tags\n",
    "TAG_counts = doc.count_by(spacy.attrs.TAG)\n",
    "TAG_counts\n",
    "\n",
    "for k,v in sorted(TAG_counts.items()):\n",
    "    print(f'{k:{20}}: {doc.vocab[k].text:{4}} ({spacy.explain(doc.vocab[k].text)}) {v:->{4}}')"
   ]
  },
  {
   "cell_type": "code",
   "execution_count": 27,
   "metadata": {},
   "outputs": [
    {
     "name": "stdout",
     "output_type": "stream",
     "text": [
      "        0:          (None) ---8\n",
      "      398: acomp    (adjectival complement) ---1\n",
      "      399: advcl    (adverbial clause modifier) ---1\n",
      "      400: advmod   (adverbial modifier) ---5\n",
      "      402: amod     (adjectival modifier) ---5\n",
      "      404: attr     (attribute) ---3\n",
      "      405: aux      (auxiliary) ---2\n",
      "      407: cc       (coordinating conjunction) ---2\n",
      "      408: ccomp    (clausal complement) ---1\n",
      "      410: conj     (conjunct) ---3\n",
      "      415: det      (determiner) ---9\n",
      "      416: dobj     (direct object) ---1\n",
      "      417: expl     (expletive) ---1\n",
      "      421: intj     (interjection) ---2\n",
      "      423: mark     (marker) ---1\n",
      "      425: neg      (negation modifier) ---1\n",
      "      428: npadvmod (noun phrase as adverbial modifier) ---1\n",
      "      429: nsubj    (nominal subject) ---5\n",
      "      438: pcomp    (complement of preposition) ---1\n",
      "      439: pobj     (object of preposition) ---7\n",
      "      440: poss     (possession modifier) ---2\n",
      "      443: prep     (prepositional modifier) ---8\n",
      "      445: punct    (punctuation) --10\n",
      "      447: relcl    (relative clause modifier) ---1\n",
      "7037928807040764755: compound (compound) ---1\n",
      "8206900633647566924: ROOT     (None) ---4\n"
     ]
    }
   ],
   "source": [
    "# create freqiency list for dependencies\n",
    "DEP_counts = doc.count_by(spacy.attrs.DEP)\n",
    "DEP_counts\n",
    "\n",
    "for k,v in sorted(DEP_counts.items()):\n",
    "    print(f'{k:{9}}: {doc.vocab[k].text:{8}} ({spacy.explain(doc.vocab[k].text)}) {v:->{4}}')"
   ]
  },
  {
   "cell_type": "code",
   "execution_count": 28,
   "metadata": {},
   "outputs": [
    {
     "data": {
      "text/plain": [
       "“Ah daddy, I wanna stay drunk many days”"
      ]
     },
     "execution_count": 28,
     "metadata": {},
     "output_type": "execute_result"
    }
   ],
   "source": [
    "# a span is a slice of a Doc object\n",
    "quote = doc[28:39]\n",
    "quote"
   ]
  },
  {
   "cell_type": "code",
   "execution_count": 29,
   "metadata": {},
   "outputs": [
    {
     "data": {
      "text/plain": [
       "spacy.tokens.span.Span"
      ]
     },
     "execution_count": 29,
     "metadata": {},
     "output_type": "execute_result"
    }
   ],
   "source": [
    "type(quote)"
   ]
  },
  {
   "cell_type": "code",
   "execution_count": 30,
   "metadata": {
    "scrolled": true
   },
   "outputs": [
    {
     "name": "stdout",
     "output_type": "stream",
     "text": [
      "“         LEMMA: \"         POS: ``  -- opening quotation mark\n",
      "Ah        LEMMA: ah        POS: UH  -- interjection\n",
      "daddy     LEMMA: daddy     POS: NN  -- noun, singular or mass\n",
      ",         LEMMA: ,         POS: ,   -- punctuation mark, comma\n",
      "I         LEMMA: -PRON-    POS: PRP -- pronoun, personal\n",
      "wanna     LEMMA: wanna     POS: MD  -- verb, modal auxiliary\n",
      "stay      LEMMA: stay      POS: VBP -- verb, non-3rd person singular present\n",
      "drunk     LEMMA: drunk     POS: JJ  -- adjective\n",
      "many      LEMMA: many      POS: JJ  -- adjective\n",
      "days      LEMMA: day       POS: NNS -- noun, plural\n",
      "”         LEMMA: \"         POS: ''  -- closing quotation mark\n"
     ]
    }
   ],
   "source": [
    "# a function to show lemmas and pos-tags\n",
    "def show_lemma_pos(text):\n",
    "    for token in text:\n",
    "        print(f'{token.text:{9}} LEMMA: {token.lemma_:{9}} POS: {token.tag_:{3}} -- {spacy.explain(token.tag_)}')\n",
    "        \n",
    "# call function on quote\n",
    "show_lemma_pos(quote)"
   ]
  },
  {
   "cell_type": "code",
   "execution_count": 31,
   "metadata": {},
   "outputs": [
    {
     "name": "stdout",
     "output_type": "stream",
     "text": [
      "San Sebastian : GPE : Countries, cities, states\n",
      "Irún : GPE : Countries, cities, states\n",
      "Hendaye : GPE : Countries, cities, states\n",
      "Biarritz : ORG : Companies, agencies, institutions, etc.\n",
      "the Travesera de Gracia : FAC : Buildings, airports, highways, bridges, etc.\n",
      "Barcelona : GPE : Countries, cities, states\n",
      "St. Sebastian : GPE : Countries, cities, states\n",
      "New York : GPE : Countries, cities, states\n",
      "4 o’clock : TIME : Times smaller than a day\n",
      "Polish : NORP : Nationalities or religious or political groups\n",
      "Frick : GPE : Countries, cities, states\n",
      "Futurism : NORP : Nationalities or religious or political groups\n",
      "Leonardo : PERSON : People, including fictional\n",
      "Michelangelo : PERSON : People, including fictional\n"
     ]
    }
   ],
   "source": [
    "# NER\n",
    "doc2 = nlp(u'Having a coke with you is even more fun than going to'\n",
    "           + ' San Sebastian, Irún, Hendaye, Biarritz, Bayonne' \n",
    "           + ' or being sick to my stomach on the Travesera de Gracia in Barcelona partly because' \n",
    "           + ' in your orange shirt you look like a better happier St. Sebastian... '\n",
    "           + '\\n...in the warm New York 4 o’clock light we are drifting back and forth...'\n",
    "           + '\\n...except possibly for the Polish Rider occasionally and anyway it’s in the Frick...'\n",
    "           + '\\n... and the fact that you move so beautifully more or less takes care of Futurism'\n",
    "           + ' just as at home I never think of the Nude Descending a Staircase or at a rehearsal' \n",
    "           + ' a single drawing of Leonardo or Michelangelo that used to wow me')\n",
    "              \n",
    "# print out names entities and their labels   \n",
    "for ent in doc2.ents:\n",
    "    print(ent.text + ' : ' + ent.label_ + ' : ' + spacy.explain(ent.label_))"
   ]
  },
  {
   "cell_type": "code",
   "execution_count": 32,
   "metadata": {},
   "outputs": [
    {
     "name": "stdout",
     "output_type": "stream",
     "text": [
      "San Sebastian             GPE     Countries, cities, states \n",
      "Irún                      GPE     Countries, cities, states \n",
      "Hendaye                   GPE     Countries, cities, states \n",
      "Biarritz                  ORG     Companies, agencies, institutions, etc. \n",
      "the Travesera de Gracia   FAC     Buildings, airports, highways, bridges, etc. \n",
      "Barcelona                 GPE     Countries, cities, states \n",
      "St. Sebastian             GPE     Countries, cities, states \n",
      "New York                  GPE     Countries, cities, states \n",
      "4 o’clock                 TIME    Times smaller than a day \n",
      "Polish                    NORP    Nationalities or religious or political groups \n",
      "Frick                     GPE     Countries, cities, states \n",
      "Futurism                  NORP    Nationalities or religious or political groups \n",
      "Leonardo                  PERSON  People, including fictional \n",
      "Michelangelo              PERSON  People, including fictional \n"
     ]
    }
   ],
   "source": [
    "# a bit more neatly:\n",
    "# function to show named entities in a text\n",
    "def show_ents(text):\n",
    "    for ent in text.ents:\n",
    "        print(f'{ent.text:{25}} {ent.label_:{7}} {spacy.explain(ent.label_):{10}} ')\n",
    "        \n",
    "        \n",
    "# call function on doc2        \n",
    "show_ents(doc2)        "
   ]
  },
  {
   "cell_type": "code",
   "execution_count": 33,
   "metadata": {},
   "outputs": [
    {
     "data": {
      "text/plain": [
       "Biarritz"
      ]
     },
     "execution_count": 33,
     "metadata": {},
     "output_type": "execute_result"
    }
   ],
   "source": [
    "#access entity by index\n",
    "doc2.ents[3]"
   ]
  },
  {
   "cell_type": "code",
   "execution_count": 34,
   "metadata": {},
   "outputs": [
    {
     "data": {
      "text/plain": [
       "(19, 20)"
      ]
     },
     "execution_count": 34,
     "metadata": {},
     "output_type": "execute_result"
    }
   ],
   "source": [
    "# check position of ent\n",
    "doc2.ents[3].start, doc2.ents[3].end"
   ]
  },
  {
   "cell_type": "code",
   "execution_count": 35,
   "metadata": {},
   "outputs": [
    {
     "data": {
      "text/plain": [
       "'ORG'"
      ]
     },
     "execution_count": 35,
     "metadata": {},
     "output_type": "execute_result"
    }
   ],
   "source": [
    "# check label, realize it is wrong\n",
    "doc2.ents[3].label_\n",
    "\n",
    "# HOW TO CHANGE AN ENTITY LABEL?"
   ]
  },
  {
   "cell_type": "code",
   "execution_count": 36,
   "metadata": {},
   "outputs": [
    {
     "data": {
      "text/plain": [
       "'Bayonne'"
      ]
     },
     "execution_count": 36,
     "metadata": {},
     "output_type": "execute_result"
    }
   ],
   "source": [
    "doc2[21].text"
   ]
  },
  {
   "cell_type": "code",
   "execution_count": 37,
   "metadata": {},
   "outputs": [
    {
     "data": {
      "text/plain": [
       "'2.2.4'"
      ]
     },
     "execution_count": 37,
     "metadata": {},
     "output_type": "execute_result"
    }
   ],
   "source": [
    "#There's a known issue with spaCy v2.0.12 where some linebreaks are interpreted as `GPE` entities:\n",
    "spacy.__version__"
   ]
  },
  {
   "cell_type": "code",
   "execution_count": 38,
   "metadata": {
    "scrolled": true
   },
   "outputs": [],
   "source": [
    "# add ent\n",
    "from spacy.tokens import Span\n",
    "\n",
    "# get hash value of GPE label\n",
    "GPE = doc2.vocab.strings[u'GPE']\n",
    "# create span for new ent\n",
    "new_ent = Span(doc2, 21, 22, label=GPE)\n",
    "\n",
    "# add ent to the Doc object\n",
    "doc2.ents = list(doc2.ents) + [new_ent] "
   ]
  },
  {
   "cell_type": "code",
   "execution_count": 39,
   "metadata": {},
   "outputs": [
    {
     "name": "stdout",
     "output_type": "stream",
     "text": [
      "San Sebastian             GPE     Countries, cities, states \n",
      "Irún                      GPE     Countries, cities, states \n",
      "Hendaye                   GPE     Countries, cities, states \n",
      "Biarritz                  ORG     Companies, agencies, institutions, etc. \n",
      "Bayonne                   GPE     Countries, cities, states \n",
      "the Travesera de Gracia   FAC     Buildings, airports, highways, bridges, etc. \n",
      "Barcelona                 GPE     Countries, cities, states \n",
      "St. Sebastian             GPE     Countries, cities, states \n",
      "New York                  GPE     Countries, cities, states \n",
      "4 o’clock                 TIME    Times smaller than a day \n",
      "Polish                    NORP    Nationalities or religious or political groups \n",
      "Frick                     GPE     Countries, cities, states \n",
      "Futurism                  NORP    Nationalities or religious or political groups \n",
      "Leonardo                  PERSON  People, including fictional \n",
      "Michelangelo              PERSON  People, including fictional \n"
     ]
    }
   ],
   "source": [
    "show_ents(doc2)"
   ]
  },
  {
   "cell_type": "code",
   "execution_count": 40,
   "metadata": {},
   "outputs": [
    {
     "name": "stdout",
     "output_type": "stream",
     "text": [
      "word: <class 'spacy.tokens.span.Span'>\n",
      "word.text: <attribute 'text' of 'spacy.tokens.span.Span' objects>\n"
     ]
    }
   ],
   "source": [
    "# difference between word and word.text\n",
    "print('word:', type(doc2.ents[3])) \n",
    "print('word.text:', type(doc2.ents[3]).text)"
   ]
  },
  {
   "cell_type": "code",
   "execution_count": 41,
   "metadata": {},
   "outputs": [
    {
     "data": {
      "text/plain": [
       "15"
      ]
     },
     "execution_count": 41,
     "metadata": {},
     "output_type": "execute_result"
    }
   ],
   "source": [
    "#number of named entities\n",
    "len(doc2.ents)"
   ]
  },
  {
   "cell_type": "code",
   "execution_count": 42,
   "metadata": {},
   "outputs": [
    {
     "name": "stdout",
     "output_type": "stream",
     "text": [
      "<class 'spacy.tokens.span.Span'>\n",
      "<class 'str'>\n",
      "<class 'spacy.tokens.span.Span'>\n",
      "<class 'str'>\n",
      "<class 'spacy.tokens.span.Span'>\n",
      "<class 'str'>\n",
      "<class 'spacy.tokens.span.Span'>\n",
      "<class 'str'>\n",
      "<class 'spacy.tokens.span.Span'>\n",
      "<class 'str'>\n",
      "<class 'spacy.tokens.span.Span'>\n",
      "<class 'str'>\n",
      "<class 'spacy.tokens.span.Span'>\n",
      "<class 'str'>\n",
      "<class 'spacy.tokens.span.Span'>\n",
      "<class 'str'>\n",
      "<class 'spacy.tokens.span.Span'>\n",
      "<class 'str'>\n",
      "<class 'spacy.tokens.span.Span'>\n",
      "<class 'str'>\n",
      "<class 'spacy.tokens.span.Span'>\n",
      "<class 'str'>\n",
      "<class 'spacy.tokens.span.Span'>\n",
      "<class 'str'>\n",
      "<class 'spacy.tokens.span.Span'>\n",
      "<class 'str'>\n",
      "<class 'spacy.tokens.span.Span'>\n",
      "<class 'str'>\n",
      "<class 'spacy.tokens.span.Span'>\n",
      "<class 'str'>\n",
      "<class 'spacy.tokens.span.Span'>\n",
      "<class 'str'>\n",
      "<class 'spacy.tokens.span.Span'>\n",
      "<class 'str'>\n"
     ]
    }
   ],
   "source": [
    "# noun chunks\n",
    "for chunk in doc.noun_chunks:\n",
    "    print(type(chunk))\n",
    "    print(type(chunk.text))"
   ]
  },
  {
   "cell_type": "code",
   "execution_count": 43,
   "metadata": {},
   "outputs": [
    {
     "name": "stdout",
     "output_type": "stream",
     "text": [
      "Instant coffee ROOT: coffee\n",
      "slightly sour cream ROOT: cream\n",
      "it ROOT: it\n",
      "a phone call ROOT: call\n",
      "the beyond ROOT: beyond\n",
      "any nearer ROOT: nearer\n",
      "I ROOT: I\n",
      "the poetry ROOT: poetry\n",
      "a new friend ROOT: friend\n",
      "my life ROOT: life\n",
      "the seeing ROOT: seeing\n",
      "hands ROOT: hands\n",
      "others ROOT: others\n",
      "my impossibilities ROOT: impossibilities\n",
      "this love ROOT: love\n",
      "the first love ROOT: love\n",
      "no impossibilities ROOT: impossibilities\n"
     ]
    }
   ],
   "source": [
    "# noun chunks\n",
    "for chunk in doc.noun_chunks:\n",
    "    print(chunk.text,  'ROOT:', chunk.root.text)"
   ]
  },
  {
   "cell_type": "code",
   "execution_count": 44,
   "metadata": {},
   "outputs": [
    {
     "name": "stdout",
     "output_type": "stream",
     "text": [
      "Instant coffee        ROOT: coffee    \n",
      "slightly sour cream   ROOT: cream     \n",
      "it                    ROOT: it        \n",
      "a phone call          ROOT: call      \n",
      "the beyond            ROOT: beyond    \n",
      "any nearer            ROOT: nearer    \n",
      "I                     ROOT: I         \n",
      "the poetry            ROOT: poetry    \n",
      "a new friend          ROOT: friend    \n",
      "my life               ROOT: life      \n",
      "the seeing            ROOT: seeing    \n",
      "hands                 ROOT: hands     \n",
      "others                ROOT: others    \n",
      "my impossibilities    ROOT: impossibilities\n",
      "this love             ROOT: love      \n",
      "the first love        ROOT: love      \n",
      "no impossibilities    ROOT: impossibilities\n"
     ]
    }
   ],
   "source": [
    "# noun chunks\n",
    "for chunk in doc.noun_chunks:\n",
    "    print(f'{chunk.text:{20}}  ROOT: {chunk.root.text:{10}}')"
   ]
  },
  {
   "cell_type": "code",
   "execution_count": 45,
   "metadata": {},
   "outputs": [
    {
     "data": {
      "text/plain": [
       "17"
      ]
     },
     "execution_count": 45,
     "metadata": {},
     "output_type": "execute_result"
    }
   ],
   "source": [
    "# number of noun chunks in doc\n",
    "# len(doc.noun_chunks) -- does not work: doc.noun_chunks is a generator object, as is doc.sents\n",
    "len(list(doc.noun_chunks))"
   ]
  },
  {
   "cell_type": "code",
   "execution_count": 46,
   "metadata": {},
   "outputs": [
    {
     "name": "stdout",
     "output_type": "stream",
     "text": [
      "Instant coffee with slightly sour cream\n",
      "in it, and a phone call to the beyond\n",
      "which doesn’t seem to becoming any nearer.\n",
      "\n",
      "“Ah daddy, I wanna stay drunk many days”\n",
      "on the poetry of a new friend\n",
      "\n",
      "my life held precariously in the seeing\n",
      "hands of others, their and my impossibilities.\n",
      "\n",
      "Is this love, now that the first love\n",
      "has finally died, where there were no impossibilities?\n"
     ]
    }
   ],
   "source": [
    "# sentenciser\n",
    "for sent in doc.sents:\n",
    "    print(sent)"
   ]
  },
  {
   "cell_type": "code",
   "execution_count": 47,
   "metadata": {},
   "outputs": [
    {
     "data": {
      "text/plain": [
       "4"
      ]
     },
     "execution_count": 47,
     "metadata": {},
     "output_type": "execute_result"
    }
   ],
   "source": [
    "# number of sents\n",
    "len(list(doc.sents))"
   ]
  },
  {
   "cell_type": "code",
   "execution_count": 48,
   "metadata": {},
   "outputs": [
    {
     "name": "stdout",
     "output_type": "stream",
     "text": [
      "True  : Instant\n",
      "None  : coffee\n",
      "None  : with\n",
      "None  : slightly\n",
      "None  : sour\n",
      "None  : cream\n",
      "None  : \n",
      "\n",
      "None  : in\n",
      "None  : it\n",
      "None  : ,\n",
      "None  : and\n",
      "None  : a\n",
      "None  : phone\n",
      "None  : call\n",
      "None  : to\n",
      "None  : the\n",
      "None  : beyond\n",
      "None  : \n",
      "\n",
      "None  : which\n",
      "None  : does\n",
      "None  : n’t\n",
      "None  : seem\n",
      "None  : to\n",
      "None  : becoming\n",
      "None  : any\n",
      "None  : nearer\n",
      "None  : .\n",
      "None  : \n",
      "\n",
      "True  : “\n",
      "None  : Ah\n"
     ]
    }
   ],
   "source": [
    "# check if token is start of a sentence\n",
    "for token in doc[:30]:\n",
    "    print(token.is_sent_start, ' : ' + token.text)"
   ]
  },
  {
   "cell_type": "code",
   "execution_count": 49,
   "metadata": {},
   "outputs": [
    {
     "data": {
      "text/plain": [
       "['tagger', 'parser', 'ner']"
      ]
     },
     "execution_count": 49,
     "metadata": {},
     "output_type": "execute_result"
    }
   ],
   "source": [
    "#reset original\n",
    "nlp = spacy.load('en_core_web_sm') \n",
    "\n",
    "\"\"\"# add a rule to the sentenciser\n",
    "def set_new_sentenciser_rule(doc):\n",
    "    for token in doc[:-1]:\n",
    "        if token.text == '\\n':\n",
    "            doc[token.i+1].is_sent_start = True\n",
    "    return doc\n",
    "\n",
    "nlp.add_pipe(set_new_sentenciser_rule, before='parser')\"\"\"\n",
    "nlp.pipe_names\n",
    "\n",
    "# changing the rules requires other steps"
   ]
  },
  {
   "cell_type": "code",
   "execution_count": 50,
   "metadata": {},
   "outputs": [
    {
     "name": "stdout",
     "output_type": "stream",
     "text": [
      "Instant coffee with slightly sour cream\n",
      "in it, and a phone call to the beyond\n",
      "which doesn’t seem to becoming any nearer.\n",
      "\n",
      "“Ah daddy, I wanna stay drunk many days”\n",
      "on the poetry of a new friend\n",
      "\n",
      "my life held precariously in the seeing\n",
      "hands of others, their and my impossibilities.\n",
      "\n",
      "Is this love, now that the first love\n",
      "has finally died, where there were no impossibilities?\n"
     ]
    }
   ],
   "source": [
    "for sent in doc.sents:\n",
    "    print(sent)"
   ]
  },
  {
   "cell_type": "code",
   "execution_count": 51,
   "metadata": {},
   "outputs": [
    {
     "data": {
      "text/plain": [
       "4"
      ]
     },
     "execution_count": 51,
     "metadata": {},
     "output_type": "execute_result"
    }
   ],
   "source": [
    "# number of sents\n",
    "len(list(doc.sents))"
   ]
  },
  {
   "cell_type": "code",
   "execution_count": null,
   "metadata": {},
   "outputs": [],
   "source": []
  },
  {
   "cell_type": "code",
   "execution_count": 52,
   "metadata": {},
   "outputs": [
    {
     "name": "stdout",
     "output_type": "stream",
     "text": [
      "{'just', 'during', 'down', 'would', 'everything', 'made', 'from', 'thru', 'i', 'still', 'side', 'they', 'perhaps', 'hence', 'becoming', 'doing', 'hereafter', 'hereupon', 'indeed', 'may', 'seems', 'various', 'her', 'become', 'my', 'have', 'besides', 'sometimes', 'under', 'mostly', 'whereas', \"'s\", 'around', 'much', 'third', 'hundred', 'someone', 'ten', 'whereupon', 'namely', 'thereupon', 'thus', \"'re\", 'except', 'themselves', 'at', 'you', 'via', 'get', 'nor', 'very', 'meanwhile', 'whether', 'full', 'along', 'of', '‘s', 'will', 'regarding', 'if', '‘m', 'about', 'done', 'further', 'to', 'which', 'than', 'both', 'everywhere', 'amongst', 'since', 'its', \"n't\", 'nine', 'first', '‘re', 'thereby', 'off', 'this', 'me', 'anywhere', 'each', 'other', 'he', 're', 'nobody', 'part', 'that', 'with', 'without', 'former', 'last', 'up', 'been', 'serious', '’ve', 'per', 'could', 'noone', 'once', 'when', 'their', 'onto', 'through', 'neither', 'we', 'whose', 'where', 'eleven', 'towards', 'twelve', 'therefore', 'anyone', 'became', 'mine', 'front', 'either', 'between', 'and', 'wherever', 'am', 'being', 'are', 'below', 'him', 'himself', 'several', 'anyhow', 'what', 'otherwise', \"'ve\", 'over', 'these', '‘ll', 'already', 'three', 'becomes', 'had', 'the', 'against', 'else', 'whenever', 'in', 'bottom', 'for', 'as', 'here', 'give', 'it', 'cannot', 'whither', '‘ve', 'ca', 'ourselves', 'own', 'might', 'see', 'them', 'top', 'thereafter', 'too', '’ll', 'although', 'upon', 'fifty', 'into', 'formerly', 'alone', 'across', 'elsewhere', 'be', 'five', 'however', 'rather', 'ever', 'no', 'show', 'many', 'ours', 'anyway', 'every', 'whoever', 'why', 'thence', 'sixty', 'say', 'therein', 'toward', 'everyone', 'together', 'or', 'few', 'two', 'forty', 'make', 'one', 'moreover', 'go', 'nowhere', 'out', 'least', 'n’t', 'after', 'same', '’d', 'please', 'all', 'did', 'then', 'so', \"'ll\", 'whence', 'using', 'seem', 'whole', 'yet', 'less', 'seeming', 'not', 'behind', 'again', 'nothing', 'sometime', 'wherein', 'but', 'until', 'used', 'above', 'enough', 'most', 'nevertheless', 'whereafter', 'back', 'eight', 'any', 'call', 'a', 'does', 'always', 'hers', 'myself', 'often', 'others', 'such', 'whom', 'afterwards', 'n‘t', 'among', 'can', 'hereby', 'unless', 'keep', 'should', 'also', 'fifteen', 'more', 'somehow', 'us', 'somewhere', 'while', 'within', \"'d\", '’re', 'next', 'six', 'herein', 'itself', 'never', 'latterly', 'though', '‘d', 'his', 'on', 'well', 'an', 'anything', 'who', 'whereby', 'now', 'was', 'how', 'name', 'beforehand', 'herself', 'quite', 'some', 'only', 'do', 'empty', 'even', 'those', 'twenty', 'whatever', 'beyond', 'latter', 'put', 'before', 'beside', 'four', 'is', 'something', 'yourselves', 'yourself', 'there', 'take', 'due', '’m', 'your', 'our', 'none', 'amount', 'she', 'were', \"'m\", 'really', 'has', 'because', 'must', 'almost', 'yours', '’s', 'another', 'by', 'seemed', 'throughout', 'move'}\n"
     ]
    }
   ],
   "source": [
    "# stop words\n",
    "print(nlp.Defaults.stop_words)"
   ]
  },
  {
   "cell_type": "code",
   "execution_count": 53,
   "metadata": {},
   "outputs": [
    {
     "data": {
      "text/plain": [
       "326"
      ]
     },
     "execution_count": 53,
     "metadata": {},
     "output_type": "execute_result"
    }
   ],
   "source": [
    "# number of stop words\n",
    "len(nlp.Defaults.stop_words)"
   ]
  },
  {
   "cell_type": "code",
   "execution_count": 54,
   "metadata": {},
   "outputs": [
    {
     "data": {
      "text/plain": [
       "False"
      ]
     },
     "execution_count": 54,
     "metadata": {},
     "output_type": "execute_result"
    }
   ],
   "source": [
    "# check whether a word is a stop word\n",
    "nlp.vocab['cat'].is_stop"
   ]
  },
  {
   "cell_type": "code",
   "execution_count": 55,
   "metadata": {},
   "outputs": [],
   "source": [
    "# add a stop word\n",
    "nlp.Defaults.stop_words.add('cat')\n",
    "nlp.vocab['cat'].is_stop = 'True'"
   ]
  },
  {
   "cell_type": "code",
   "execution_count": 56,
   "metadata": {},
   "outputs": [
    {
     "data": {
      "text/plain": [
       "True"
      ]
     },
     "execution_count": 56,
     "metadata": {},
     "output_type": "execute_result"
    }
   ],
   "source": [
    "nlp.vocab['cat'].is_stop"
   ]
  },
  {
   "cell_type": "code",
   "execution_count": 57,
   "metadata": {},
   "outputs": [],
   "source": [
    "# remove a word from stop words\n",
    "nlp.Defaults.stop_words.remove('cat')\n",
    "nlp.vocab['cat'].is_stop = False"
   ]
  },
  {
   "cell_type": "markdown",
   "metadata": {},
   "source": [
    "# VISUALISE!"
   ]
  },
  {
   "cell_type": "code",
   "execution_count": 58,
   "metadata": {},
   "outputs": [],
   "source": [
    "from spacy import displacy "
   ]
  },
  {
   "cell_type": "code",
   "execution_count": 59,
   "metadata": {},
   "outputs": [
    {
     "data": {
      "text/plain": [
       "Instant coffee with slightly sour cream\n",
       "in it, and a phone call to the beyond\n",
       "which doesn’t seem to becoming any nearer."
      ]
     },
     "execution_count": 59,
     "metadata": {},
     "output_type": "execute_result"
    }
   ],
   "source": [
    "span = doc[0:28]\n",
    "span"
   ]
  },
  {
   "cell_type": "code",
   "execution_count": 60,
   "metadata": {},
   "outputs": [
    {
     "data": {
      "text/html": [
       "<span class=\"tex2jax_ignore\"><svg xmlns=\"http://www.w3.org/2000/svg\" xmlns:xlink=\"http://www.w3.org/1999/xlink\" xml:lang=\"en\" id=\"c9aa64d824a848c6b6c8658500f7d508-0\" class=\"displacy\" width=\"3170\" height=\"497.0\" direction=\"ltr\" style=\"max-width: none; height: 497.0px; color: #000000; background: #ffffff; font-family: Arial; direction: ltr\">\n",
       "<text class=\"displacy-token\" fill=\"currentColor\" text-anchor=\"middle\" y=\"407.0\">\n",
       "    <tspan class=\"displacy-word\" fill=\"currentColor\" x=\"50\">Instant</tspan>\n",
       "    <tspan class=\"displacy-tag\" dy=\"2em\" fill=\"currentColor\" x=\"50\">ADJ</tspan>\n",
       "</text>\n",
       "\n",
       "<text class=\"displacy-token\" fill=\"currentColor\" text-anchor=\"middle\" y=\"407.0\">\n",
       "    <tspan class=\"displacy-word\" fill=\"currentColor\" x=\"170\">coffee</tspan>\n",
       "    <tspan class=\"displacy-tag\" dy=\"2em\" fill=\"currentColor\" x=\"170\">NOUN</tspan>\n",
       "</text>\n",
       "\n",
       "<text class=\"displacy-token\" fill=\"currentColor\" text-anchor=\"middle\" y=\"407.0\">\n",
       "    <tspan class=\"displacy-word\" fill=\"currentColor\" x=\"290\">with</tspan>\n",
       "    <tspan class=\"displacy-tag\" dy=\"2em\" fill=\"currentColor\" x=\"290\">ADP</tspan>\n",
       "</text>\n",
       "\n",
       "<text class=\"displacy-token\" fill=\"currentColor\" text-anchor=\"middle\" y=\"407.0\">\n",
       "    <tspan class=\"displacy-word\" fill=\"currentColor\" x=\"410\">slightly</tspan>\n",
       "    <tspan class=\"displacy-tag\" dy=\"2em\" fill=\"currentColor\" x=\"410\">ADV</tspan>\n",
       "</text>\n",
       "\n",
       "<text class=\"displacy-token\" fill=\"currentColor\" text-anchor=\"middle\" y=\"407.0\">\n",
       "    <tspan class=\"displacy-word\" fill=\"currentColor\" x=\"530\">sour</tspan>\n",
       "    <tspan class=\"displacy-tag\" dy=\"2em\" fill=\"currentColor\" x=\"530\">ADJ</tspan>\n",
       "</text>\n",
       "\n",
       "<text class=\"displacy-token\" fill=\"currentColor\" text-anchor=\"middle\" y=\"407.0\">\n",
       "    <tspan class=\"displacy-word\" fill=\"currentColor\" x=\"650\">cream</tspan>\n",
       "    <tspan class=\"displacy-tag\" dy=\"2em\" fill=\"currentColor\" x=\"650\">NOUN</tspan>\n",
       "</text>\n",
       "\n",
       "<text class=\"displacy-token\" fill=\"currentColor\" text-anchor=\"middle\" y=\"407.0\">\n",
       "    <tspan class=\"displacy-word\" fill=\"currentColor\" x=\"770\">\n",
       "</tspan>\n",
       "    <tspan class=\"displacy-tag\" dy=\"2em\" fill=\"currentColor\" x=\"770\">SPACE</tspan>\n",
       "</text>\n",
       "\n",
       "<text class=\"displacy-token\" fill=\"currentColor\" text-anchor=\"middle\" y=\"407.0\">\n",
       "    <tspan class=\"displacy-word\" fill=\"currentColor\" x=\"890\">in</tspan>\n",
       "    <tspan class=\"displacy-tag\" dy=\"2em\" fill=\"currentColor\" x=\"890\">ADP</tspan>\n",
       "</text>\n",
       "\n",
       "<text class=\"displacy-token\" fill=\"currentColor\" text-anchor=\"middle\" y=\"407.0\">\n",
       "    <tspan class=\"displacy-word\" fill=\"currentColor\" x=\"1010\">it,</tspan>\n",
       "    <tspan class=\"displacy-tag\" dy=\"2em\" fill=\"currentColor\" x=\"1010\">PRON</tspan>\n",
       "</text>\n",
       "\n",
       "<text class=\"displacy-token\" fill=\"currentColor\" text-anchor=\"middle\" y=\"407.0\">\n",
       "    <tspan class=\"displacy-word\" fill=\"currentColor\" x=\"1130\">and</tspan>\n",
       "    <tspan class=\"displacy-tag\" dy=\"2em\" fill=\"currentColor\" x=\"1130\">CCONJ</tspan>\n",
       "</text>\n",
       "\n",
       "<text class=\"displacy-token\" fill=\"currentColor\" text-anchor=\"middle\" y=\"407.0\">\n",
       "    <tspan class=\"displacy-word\" fill=\"currentColor\" x=\"1250\">a</tspan>\n",
       "    <tspan class=\"displacy-tag\" dy=\"2em\" fill=\"currentColor\" x=\"1250\">DET</tspan>\n",
       "</text>\n",
       "\n",
       "<text class=\"displacy-token\" fill=\"currentColor\" text-anchor=\"middle\" y=\"407.0\">\n",
       "    <tspan class=\"displacy-word\" fill=\"currentColor\" x=\"1370\">phone</tspan>\n",
       "    <tspan class=\"displacy-tag\" dy=\"2em\" fill=\"currentColor\" x=\"1370\">NOUN</tspan>\n",
       "</text>\n",
       "\n",
       "<text class=\"displacy-token\" fill=\"currentColor\" text-anchor=\"middle\" y=\"407.0\">\n",
       "    <tspan class=\"displacy-word\" fill=\"currentColor\" x=\"1490\">call</tspan>\n",
       "    <tspan class=\"displacy-tag\" dy=\"2em\" fill=\"currentColor\" x=\"1490\">NOUN</tspan>\n",
       "</text>\n",
       "\n",
       "<text class=\"displacy-token\" fill=\"currentColor\" text-anchor=\"middle\" y=\"407.0\">\n",
       "    <tspan class=\"displacy-word\" fill=\"currentColor\" x=\"1610\">to</tspan>\n",
       "    <tspan class=\"displacy-tag\" dy=\"2em\" fill=\"currentColor\" x=\"1610\">ADP</tspan>\n",
       "</text>\n",
       "\n",
       "<text class=\"displacy-token\" fill=\"currentColor\" text-anchor=\"middle\" y=\"407.0\">\n",
       "    <tspan class=\"displacy-word\" fill=\"currentColor\" x=\"1730\">the</tspan>\n",
       "    <tspan class=\"displacy-tag\" dy=\"2em\" fill=\"currentColor\" x=\"1730\">DET</tspan>\n",
       "</text>\n",
       "\n",
       "<text class=\"displacy-token\" fill=\"currentColor\" text-anchor=\"middle\" y=\"407.0\">\n",
       "    <tspan class=\"displacy-word\" fill=\"currentColor\" x=\"1850\">beyond</tspan>\n",
       "    <tspan class=\"displacy-tag\" dy=\"2em\" fill=\"currentColor\" x=\"1850\">NOUN</tspan>\n",
       "</text>\n",
       "\n",
       "<text class=\"displacy-token\" fill=\"currentColor\" text-anchor=\"middle\" y=\"407.0\">\n",
       "    <tspan class=\"displacy-word\" fill=\"currentColor\" x=\"1970\">\n",
       "</tspan>\n",
       "    <tspan class=\"displacy-tag\" dy=\"2em\" fill=\"currentColor\" x=\"1970\">SPACE</tspan>\n",
       "</text>\n",
       "\n",
       "<text class=\"displacy-token\" fill=\"currentColor\" text-anchor=\"middle\" y=\"407.0\">\n",
       "    <tspan class=\"displacy-word\" fill=\"currentColor\" x=\"2090\">which</tspan>\n",
       "    <tspan class=\"displacy-tag\" dy=\"2em\" fill=\"currentColor\" x=\"2090\">DET</tspan>\n",
       "</text>\n",
       "\n",
       "<text class=\"displacy-token\" fill=\"currentColor\" text-anchor=\"middle\" y=\"407.0\">\n",
       "    <tspan class=\"displacy-word\" fill=\"currentColor\" x=\"2210\">does</tspan>\n",
       "    <tspan class=\"displacy-tag\" dy=\"2em\" fill=\"currentColor\" x=\"2210\">AUX</tspan>\n",
       "</text>\n",
       "\n",
       "<text class=\"displacy-token\" fill=\"currentColor\" text-anchor=\"middle\" y=\"407.0\">\n",
       "    <tspan class=\"displacy-word\" fill=\"currentColor\" x=\"2330\">n’t</tspan>\n",
       "    <tspan class=\"displacy-tag\" dy=\"2em\" fill=\"currentColor\" x=\"2330\">PART</tspan>\n",
       "</text>\n",
       "\n",
       "<text class=\"displacy-token\" fill=\"currentColor\" text-anchor=\"middle\" y=\"407.0\">\n",
       "    <tspan class=\"displacy-word\" fill=\"currentColor\" x=\"2450\">seem</tspan>\n",
       "    <tspan class=\"displacy-tag\" dy=\"2em\" fill=\"currentColor\" x=\"2450\">VERB</tspan>\n",
       "</text>\n",
       "\n",
       "<text class=\"displacy-token\" fill=\"currentColor\" text-anchor=\"middle\" y=\"407.0\">\n",
       "    <tspan class=\"displacy-word\" fill=\"currentColor\" x=\"2570\">to</tspan>\n",
       "    <tspan class=\"displacy-tag\" dy=\"2em\" fill=\"currentColor\" x=\"2570\">ADP</tspan>\n",
       "</text>\n",
       "\n",
       "<text class=\"displacy-token\" fill=\"currentColor\" text-anchor=\"middle\" y=\"407.0\">\n",
       "    <tspan class=\"displacy-word\" fill=\"currentColor\" x=\"2690\">becoming</tspan>\n",
       "    <tspan class=\"displacy-tag\" dy=\"2em\" fill=\"currentColor\" x=\"2690\">VERB</tspan>\n",
       "</text>\n",
       "\n",
       "<text class=\"displacy-token\" fill=\"currentColor\" text-anchor=\"middle\" y=\"407.0\">\n",
       "    <tspan class=\"displacy-word\" fill=\"currentColor\" x=\"2810\">any</tspan>\n",
       "    <tspan class=\"displacy-tag\" dy=\"2em\" fill=\"currentColor\" x=\"2810\">DET</tspan>\n",
       "</text>\n",
       "\n",
       "<text class=\"displacy-token\" fill=\"currentColor\" text-anchor=\"middle\" y=\"407.0\">\n",
       "    <tspan class=\"displacy-word\" fill=\"currentColor\" x=\"2930\">nearer.</tspan>\n",
       "    <tspan class=\"displacy-tag\" dy=\"2em\" fill=\"currentColor\" x=\"2930\">NOUN</tspan>\n",
       "</text>\n",
       "\n",
       "<text class=\"displacy-token\" fill=\"currentColor\" text-anchor=\"middle\" y=\"407.0\">\n",
       "    <tspan class=\"displacy-word\" fill=\"currentColor\" x=\"3050\">\n",
       "</tspan>\n",
       "    <tspan class=\"displacy-tag\" dy=\"2em\" fill=\"currentColor\" x=\"3050\">SPACE</tspan>\n",
       "</text>\n",
       "\n",
       "<g class=\"displacy-arrow\">\n",
       "    <path class=\"displacy-arc\" id=\"arrow-c9aa64d824a848c6b6c8658500f7d508-0-0\" stroke-width=\"2px\" d=\"M70,362.0 C70,302.0 145.0,302.0 145.0,362.0\" fill=\"none\" stroke=\"currentColor\"/>\n",
       "    <text dy=\"1.25em\" style=\"font-size: 0.8em; letter-spacing: 1px\">\n",
       "        <textPath xlink:href=\"#arrow-c9aa64d824a848c6b6c8658500f7d508-0-0\" class=\"displacy-label\" startOffset=\"50%\" side=\"left\" fill=\"currentColor\" text-anchor=\"middle\">amod</textPath>\n",
       "    </text>\n",
       "    <path class=\"displacy-arrowhead\" d=\"M70,364.0 L62,352.0 78,352.0\" fill=\"currentColor\"/>\n",
       "</g>\n",
       "\n",
       "<g class=\"displacy-arrow\">\n",
       "    <path class=\"displacy-arc\" id=\"arrow-c9aa64d824a848c6b6c8658500f7d508-0-1\" stroke-width=\"2px\" d=\"M190,362.0 C190,302.0 265.0,302.0 265.0,362.0\" fill=\"none\" stroke=\"currentColor\"/>\n",
       "    <text dy=\"1.25em\" style=\"font-size: 0.8em; letter-spacing: 1px\">\n",
       "        <textPath xlink:href=\"#arrow-c9aa64d824a848c6b6c8658500f7d508-0-1\" class=\"displacy-label\" startOffset=\"50%\" side=\"left\" fill=\"currentColor\" text-anchor=\"middle\">prep</textPath>\n",
       "    </text>\n",
       "    <path class=\"displacy-arrowhead\" d=\"M265.0,364.0 L273.0,352.0 257.0,352.0\" fill=\"currentColor\"/>\n",
       "</g>\n",
       "\n",
       "<g class=\"displacy-arrow\">\n",
       "    <path class=\"displacy-arc\" id=\"arrow-c9aa64d824a848c6b6c8658500f7d508-0-2\" stroke-width=\"2px\" d=\"M430,362.0 C430,302.0 505.0,302.0 505.0,362.0\" fill=\"none\" stroke=\"currentColor\"/>\n",
       "    <text dy=\"1.25em\" style=\"font-size: 0.8em; letter-spacing: 1px\">\n",
       "        <textPath xlink:href=\"#arrow-c9aa64d824a848c6b6c8658500f7d508-0-2\" class=\"displacy-label\" startOffset=\"50%\" side=\"left\" fill=\"currentColor\" text-anchor=\"middle\">advmod</textPath>\n",
       "    </text>\n",
       "    <path class=\"displacy-arrowhead\" d=\"M430,364.0 L422,352.0 438,352.0\" fill=\"currentColor\"/>\n",
       "</g>\n",
       "\n",
       "<g class=\"displacy-arrow\">\n",
       "    <path class=\"displacy-arc\" id=\"arrow-c9aa64d824a848c6b6c8658500f7d508-0-3\" stroke-width=\"2px\" d=\"M550,362.0 C550,302.0 625.0,302.0 625.0,362.0\" fill=\"none\" stroke=\"currentColor\"/>\n",
       "    <text dy=\"1.25em\" style=\"font-size: 0.8em; letter-spacing: 1px\">\n",
       "        <textPath xlink:href=\"#arrow-c9aa64d824a848c6b6c8658500f7d508-0-3\" class=\"displacy-label\" startOffset=\"50%\" side=\"left\" fill=\"currentColor\" text-anchor=\"middle\">amod</textPath>\n",
       "    </text>\n",
       "    <path class=\"displacy-arrowhead\" d=\"M550,364.0 L542,352.0 558,352.0\" fill=\"currentColor\"/>\n",
       "</g>\n",
       "\n",
       "<g class=\"displacy-arrow\">\n",
       "    <path class=\"displacy-arc\" id=\"arrow-c9aa64d824a848c6b6c8658500f7d508-0-4\" stroke-width=\"2px\" d=\"M310,362.0 C310,182.0 635.0,182.0 635.0,362.0\" fill=\"none\" stroke=\"currentColor\"/>\n",
       "    <text dy=\"1.25em\" style=\"font-size: 0.8em; letter-spacing: 1px\">\n",
       "        <textPath xlink:href=\"#arrow-c9aa64d824a848c6b6c8658500f7d508-0-4\" class=\"displacy-label\" startOffset=\"50%\" side=\"left\" fill=\"currentColor\" text-anchor=\"middle\">pobj</textPath>\n",
       "    </text>\n",
       "    <path class=\"displacy-arrowhead\" d=\"M635.0,364.0 L643.0,352.0 627.0,352.0\" fill=\"currentColor\"/>\n",
       "</g>\n",
       "\n",
       "<g class=\"displacy-arrow\">\n",
       "    <path class=\"displacy-arc\" id=\"arrow-c9aa64d824a848c6b6c8658500f7d508-0-5\" stroke-width=\"2px\" d=\"M670,362.0 C670,302.0 745.0,302.0 745.0,362.0\" fill=\"none\" stroke=\"currentColor\"/>\n",
       "    <text dy=\"1.25em\" style=\"font-size: 0.8em; letter-spacing: 1px\">\n",
       "        <textPath xlink:href=\"#arrow-c9aa64d824a848c6b6c8658500f7d508-0-5\" class=\"displacy-label\" startOffset=\"50%\" side=\"left\" fill=\"currentColor\" text-anchor=\"middle\"></textPath>\n",
       "    </text>\n",
       "    <path class=\"displacy-arrowhead\" d=\"M745.0,364.0 L753.0,352.0 737.0,352.0\" fill=\"currentColor\"/>\n",
       "</g>\n",
       "\n",
       "<g class=\"displacy-arrow\">\n",
       "    <path class=\"displacy-arc\" id=\"arrow-c9aa64d824a848c6b6c8658500f7d508-0-6\" stroke-width=\"2px\" d=\"M670,362.0 C670,242.0 870.0,242.0 870.0,362.0\" fill=\"none\" stroke=\"currentColor\"/>\n",
       "    <text dy=\"1.25em\" style=\"font-size: 0.8em; letter-spacing: 1px\">\n",
       "        <textPath xlink:href=\"#arrow-c9aa64d824a848c6b6c8658500f7d508-0-6\" class=\"displacy-label\" startOffset=\"50%\" side=\"left\" fill=\"currentColor\" text-anchor=\"middle\">prep</textPath>\n",
       "    </text>\n",
       "    <path class=\"displacy-arrowhead\" d=\"M870.0,364.0 L878.0,352.0 862.0,352.0\" fill=\"currentColor\"/>\n",
       "</g>\n",
       "\n",
       "<g class=\"displacy-arrow\">\n",
       "    <path class=\"displacy-arc\" id=\"arrow-c9aa64d824a848c6b6c8658500f7d508-0-7\" stroke-width=\"2px\" d=\"M910,362.0 C910,302.0 985.0,302.0 985.0,362.0\" fill=\"none\" stroke=\"currentColor\"/>\n",
       "    <text dy=\"1.25em\" style=\"font-size: 0.8em; letter-spacing: 1px\">\n",
       "        <textPath xlink:href=\"#arrow-c9aa64d824a848c6b6c8658500f7d508-0-7\" class=\"displacy-label\" startOffset=\"50%\" side=\"left\" fill=\"currentColor\" text-anchor=\"middle\">pobj</textPath>\n",
       "    </text>\n",
       "    <path class=\"displacy-arrowhead\" d=\"M985.0,364.0 L993.0,352.0 977.0,352.0\" fill=\"currentColor\"/>\n",
       "</g>\n",
       "\n",
       "<g class=\"displacy-arrow\">\n",
       "    <path class=\"displacy-arc\" id=\"arrow-c9aa64d824a848c6b6c8658500f7d508-0-8\" stroke-width=\"2px\" d=\"M190,362.0 C190,122.0 1120.0,122.0 1120.0,362.0\" fill=\"none\" stroke=\"currentColor\"/>\n",
       "    <text dy=\"1.25em\" style=\"font-size: 0.8em; letter-spacing: 1px\">\n",
       "        <textPath xlink:href=\"#arrow-c9aa64d824a848c6b6c8658500f7d508-0-8\" class=\"displacy-label\" startOffset=\"50%\" side=\"left\" fill=\"currentColor\" text-anchor=\"middle\">cc</textPath>\n",
       "    </text>\n",
       "    <path class=\"displacy-arrowhead\" d=\"M1120.0,364.0 L1128.0,352.0 1112.0,352.0\" fill=\"currentColor\"/>\n",
       "</g>\n",
       "\n",
       "<g class=\"displacy-arrow\">\n",
       "    <path class=\"displacy-arc\" id=\"arrow-c9aa64d824a848c6b6c8658500f7d508-0-9\" stroke-width=\"2px\" d=\"M1270,362.0 C1270,242.0 1470.0,242.0 1470.0,362.0\" fill=\"none\" stroke=\"currentColor\"/>\n",
       "    <text dy=\"1.25em\" style=\"font-size: 0.8em; letter-spacing: 1px\">\n",
       "        <textPath xlink:href=\"#arrow-c9aa64d824a848c6b6c8658500f7d508-0-9\" class=\"displacy-label\" startOffset=\"50%\" side=\"left\" fill=\"currentColor\" text-anchor=\"middle\">det</textPath>\n",
       "    </text>\n",
       "    <path class=\"displacy-arrowhead\" d=\"M1270,364.0 L1262,352.0 1278,352.0\" fill=\"currentColor\"/>\n",
       "</g>\n",
       "\n",
       "<g class=\"displacy-arrow\">\n",
       "    <path class=\"displacy-arc\" id=\"arrow-c9aa64d824a848c6b6c8658500f7d508-0-10\" stroke-width=\"2px\" d=\"M1390,362.0 C1390,302.0 1465.0,302.0 1465.0,362.0\" fill=\"none\" stroke=\"currentColor\"/>\n",
       "    <text dy=\"1.25em\" style=\"font-size: 0.8em; letter-spacing: 1px\">\n",
       "        <textPath xlink:href=\"#arrow-c9aa64d824a848c6b6c8658500f7d508-0-10\" class=\"displacy-label\" startOffset=\"50%\" side=\"left\" fill=\"currentColor\" text-anchor=\"middle\">compound</textPath>\n",
       "    </text>\n",
       "    <path class=\"displacy-arrowhead\" d=\"M1390,364.0 L1382,352.0 1398,352.0\" fill=\"currentColor\"/>\n",
       "</g>\n",
       "\n",
       "<g class=\"displacy-arrow\">\n",
       "    <path class=\"displacy-arc\" id=\"arrow-c9aa64d824a848c6b6c8658500f7d508-0-11\" stroke-width=\"2px\" d=\"M190,362.0 C190,62.0 1485.0,62.0 1485.0,362.0\" fill=\"none\" stroke=\"currentColor\"/>\n",
       "    <text dy=\"1.25em\" style=\"font-size: 0.8em; letter-spacing: 1px\">\n",
       "        <textPath xlink:href=\"#arrow-c9aa64d824a848c6b6c8658500f7d508-0-11\" class=\"displacy-label\" startOffset=\"50%\" side=\"left\" fill=\"currentColor\" text-anchor=\"middle\">conj</textPath>\n",
       "    </text>\n",
       "    <path class=\"displacy-arrowhead\" d=\"M1485.0,364.0 L1493.0,352.0 1477.0,352.0\" fill=\"currentColor\"/>\n",
       "</g>\n",
       "\n",
       "<g class=\"displacy-arrow\">\n",
       "    <path class=\"displacy-arc\" id=\"arrow-c9aa64d824a848c6b6c8658500f7d508-0-12\" stroke-width=\"2px\" d=\"M1510,362.0 C1510,302.0 1585.0,302.0 1585.0,362.0\" fill=\"none\" stroke=\"currentColor\"/>\n",
       "    <text dy=\"1.25em\" style=\"font-size: 0.8em; letter-spacing: 1px\">\n",
       "        <textPath xlink:href=\"#arrow-c9aa64d824a848c6b6c8658500f7d508-0-12\" class=\"displacy-label\" startOffset=\"50%\" side=\"left\" fill=\"currentColor\" text-anchor=\"middle\">prep</textPath>\n",
       "    </text>\n",
       "    <path class=\"displacy-arrowhead\" d=\"M1585.0,364.0 L1593.0,352.0 1577.0,352.0\" fill=\"currentColor\"/>\n",
       "</g>\n",
       "\n",
       "<g class=\"displacy-arrow\">\n",
       "    <path class=\"displacy-arc\" id=\"arrow-c9aa64d824a848c6b6c8658500f7d508-0-13\" stroke-width=\"2px\" d=\"M1750,362.0 C1750,302.0 1825.0,302.0 1825.0,362.0\" fill=\"none\" stroke=\"currentColor\"/>\n",
       "    <text dy=\"1.25em\" style=\"font-size: 0.8em; letter-spacing: 1px\">\n",
       "        <textPath xlink:href=\"#arrow-c9aa64d824a848c6b6c8658500f7d508-0-13\" class=\"displacy-label\" startOffset=\"50%\" side=\"left\" fill=\"currentColor\" text-anchor=\"middle\">det</textPath>\n",
       "    </text>\n",
       "    <path class=\"displacy-arrowhead\" d=\"M1750,364.0 L1742,352.0 1758,352.0\" fill=\"currentColor\"/>\n",
       "</g>\n",
       "\n",
       "<g class=\"displacy-arrow\">\n",
       "    <path class=\"displacy-arc\" id=\"arrow-c9aa64d824a848c6b6c8658500f7d508-0-14\" stroke-width=\"2px\" d=\"M1630,362.0 C1630,242.0 1830.0,242.0 1830.0,362.0\" fill=\"none\" stroke=\"currentColor\"/>\n",
       "    <text dy=\"1.25em\" style=\"font-size: 0.8em; letter-spacing: 1px\">\n",
       "        <textPath xlink:href=\"#arrow-c9aa64d824a848c6b6c8658500f7d508-0-14\" class=\"displacy-label\" startOffset=\"50%\" side=\"left\" fill=\"currentColor\" text-anchor=\"middle\">pobj</textPath>\n",
       "    </text>\n",
       "    <path class=\"displacy-arrowhead\" d=\"M1830.0,364.0 L1838.0,352.0 1822.0,352.0\" fill=\"currentColor\"/>\n",
       "</g>\n",
       "\n",
       "<g class=\"displacy-arrow\">\n",
       "    <path class=\"displacy-arc\" id=\"arrow-c9aa64d824a848c6b6c8658500f7d508-0-15\" stroke-width=\"2px\" d=\"M1870,362.0 C1870,302.0 1945.0,302.0 1945.0,362.0\" fill=\"none\" stroke=\"currentColor\"/>\n",
       "    <text dy=\"1.25em\" style=\"font-size: 0.8em; letter-spacing: 1px\">\n",
       "        <textPath xlink:href=\"#arrow-c9aa64d824a848c6b6c8658500f7d508-0-15\" class=\"displacy-label\" startOffset=\"50%\" side=\"left\" fill=\"currentColor\" text-anchor=\"middle\"></textPath>\n",
       "    </text>\n",
       "    <path class=\"displacy-arrowhead\" d=\"M1945.0,364.0 L1953.0,352.0 1937.0,352.0\" fill=\"currentColor\"/>\n",
       "</g>\n",
       "\n",
       "<g class=\"displacy-arrow\">\n",
       "    <path class=\"displacy-arc\" id=\"arrow-c9aa64d824a848c6b6c8658500f7d508-0-16\" stroke-width=\"2px\" d=\"M2110,362.0 C2110,182.0 2435.0,182.0 2435.0,362.0\" fill=\"none\" stroke=\"currentColor\"/>\n",
       "    <text dy=\"1.25em\" style=\"font-size: 0.8em; letter-spacing: 1px\">\n",
       "        <textPath xlink:href=\"#arrow-c9aa64d824a848c6b6c8658500f7d508-0-16\" class=\"displacy-label\" startOffset=\"50%\" side=\"left\" fill=\"currentColor\" text-anchor=\"middle\">nsubj</textPath>\n",
       "    </text>\n",
       "    <path class=\"displacy-arrowhead\" d=\"M2110,364.0 L2102,352.0 2118,352.0\" fill=\"currentColor\"/>\n",
       "</g>\n",
       "\n",
       "<g class=\"displacy-arrow\">\n",
       "    <path class=\"displacy-arc\" id=\"arrow-c9aa64d824a848c6b6c8658500f7d508-0-17\" stroke-width=\"2px\" d=\"M2230,362.0 C2230,242.0 2430.0,242.0 2430.0,362.0\" fill=\"none\" stroke=\"currentColor\"/>\n",
       "    <text dy=\"1.25em\" style=\"font-size: 0.8em; letter-spacing: 1px\">\n",
       "        <textPath xlink:href=\"#arrow-c9aa64d824a848c6b6c8658500f7d508-0-17\" class=\"displacy-label\" startOffset=\"50%\" side=\"left\" fill=\"currentColor\" text-anchor=\"middle\">aux</textPath>\n",
       "    </text>\n",
       "    <path class=\"displacy-arrowhead\" d=\"M2230,364.0 L2222,352.0 2238,352.0\" fill=\"currentColor\"/>\n",
       "</g>\n",
       "\n",
       "<g class=\"displacy-arrow\">\n",
       "    <path class=\"displacy-arc\" id=\"arrow-c9aa64d824a848c6b6c8658500f7d508-0-18\" stroke-width=\"2px\" d=\"M2350,362.0 C2350,302.0 2425.0,302.0 2425.0,362.0\" fill=\"none\" stroke=\"currentColor\"/>\n",
       "    <text dy=\"1.25em\" style=\"font-size: 0.8em; letter-spacing: 1px\">\n",
       "        <textPath xlink:href=\"#arrow-c9aa64d824a848c6b6c8658500f7d508-0-18\" class=\"displacy-label\" startOffset=\"50%\" side=\"left\" fill=\"currentColor\" text-anchor=\"middle\">neg</textPath>\n",
       "    </text>\n",
       "    <path class=\"displacy-arrowhead\" d=\"M2350,364.0 L2342,352.0 2358,352.0\" fill=\"currentColor\"/>\n",
       "</g>\n",
       "\n",
       "<g class=\"displacy-arrow\">\n",
       "    <path class=\"displacy-arc\" id=\"arrow-c9aa64d824a848c6b6c8658500f7d508-0-19\" stroke-width=\"2px\" d=\"M1510,362.0 C1510,122.0 2440.0,122.0 2440.0,362.0\" fill=\"none\" stroke=\"currentColor\"/>\n",
       "    <text dy=\"1.25em\" style=\"font-size: 0.8em; letter-spacing: 1px\">\n",
       "        <textPath xlink:href=\"#arrow-c9aa64d824a848c6b6c8658500f7d508-0-19\" class=\"displacy-label\" startOffset=\"50%\" side=\"left\" fill=\"currentColor\" text-anchor=\"middle\">relcl</textPath>\n",
       "    </text>\n",
       "    <path class=\"displacy-arrowhead\" d=\"M2440.0,364.0 L2448.0,352.0 2432.0,352.0\" fill=\"currentColor\"/>\n",
       "</g>\n",
       "\n",
       "<g class=\"displacy-arrow\">\n",
       "    <path class=\"displacy-arc\" id=\"arrow-c9aa64d824a848c6b6c8658500f7d508-0-20\" stroke-width=\"2px\" d=\"M2470,362.0 C2470,302.0 2545.0,302.0 2545.0,362.0\" fill=\"none\" stroke=\"currentColor\"/>\n",
       "    <text dy=\"1.25em\" style=\"font-size: 0.8em; letter-spacing: 1px\">\n",
       "        <textPath xlink:href=\"#arrow-c9aa64d824a848c6b6c8658500f7d508-0-20\" class=\"displacy-label\" startOffset=\"50%\" side=\"left\" fill=\"currentColor\" text-anchor=\"middle\">prep</textPath>\n",
       "    </text>\n",
       "    <path class=\"displacy-arrowhead\" d=\"M2545.0,364.0 L2553.0,352.0 2537.0,352.0\" fill=\"currentColor\"/>\n",
       "</g>\n",
       "\n",
       "<g class=\"displacy-arrow\">\n",
       "    <path class=\"displacy-arc\" id=\"arrow-c9aa64d824a848c6b6c8658500f7d508-0-21\" stroke-width=\"2px\" d=\"M2590,362.0 C2590,302.0 2665.0,302.0 2665.0,362.0\" fill=\"none\" stroke=\"currentColor\"/>\n",
       "    <text dy=\"1.25em\" style=\"font-size: 0.8em; letter-spacing: 1px\">\n",
       "        <textPath xlink:href=\"#arrow-c9aa64d824a848c6b6c8658500f7d508-0-21\" class=\"displacy-label\" startOffset=\"50%\" side=\"left\" fill=\"currentColor\" text-anchor=\"middle\">pcomp</textPath>\n",
       "    </text>\n",
       "    <path class=\"displacy-arrowhead\" d=\"M2665.0,364.0 L2673.0,352.0 2657.0,352.0\" fill=\"currentColor\"/>\n",
       "</g>\n",
       "\n",
       "<g class=\"displacy-arrow\">\n",
       "    <path class=\"displacy-arc\" id=\"arrow-c9aa64d824a848c6b6c8658500f7d508-0-22\" stroke-width=\"2px\" d=\"M2830,362.0 C2830,302.0 2905.0,302.0 2905.0,362.0\" fill=\"none\" stroke=\"currentColor\"/>\n",
       "    <text dy=\"1.25em\" style=\"font-size: 0.8em; letter-spacing: 1px\">\n",
       "        <textPath xlink:href=\"#arrow-c9aa64d824a848c6b6c8658500f7d508-0-22\" class=\"displacy-label\" startOffset=\"50%\" side=\"left\" fill=\"currentColor\" text-anchor=\"middle\">det</textPath>\n",
       "    </text>\n",
       "    <path class=\"displacy-arrowhead\" d=\"M2830,364.0 L2822,352.0 2838,352.0\" fill=\"currentColor\"/>\n",
       "</g>\n",
       "\n",
       "<g class=\"displacy-arrow\">\n",
       "    <path class=\"displacy-arc\" id=\"arrow-c9aa64d824a848c6b6c8658500f7d508-0-23\" stroke-width=\"2px\" d=\"M1510,362.0 C1510,2.0 2930.0,2.0 2930.0,362.0\" fill=\"none\" stroke=\"currentColor\"/>\n",
       "    <text dy=\"1.25em\" style=\"font-size: 0.8em; letter-spacing: 1px\">\n",
       "        <textPath xlink:href=\"#arrow-c9aa64d824a848c6b6c8658500f7d508-0-23\" class=\"displacy-label\" startOffset=\"50%\" side=\"left\" fill=\"currentColor\" text-anchor=\"middle\">punct</textPath>\n",
       "    </text>\n",
       "    <path class=\"displacy-arrowhead\" d=\"M2930.0,364.0 L2938.0,352.0 2922.0,352.0\" fill=\"currentColor\"/>\n",
       "</g>\n",
       "\n",
       "<g class=\"displacy-arrow\">\n",
       "    <path class=\"displacy-arc\" id=\"arrow-c9aa64d824a848c6b6c8658500f7d508-0-24\" stroke-width=\"2px\" d=\"M2950,362.0 C2950,302.0 3025.0,302.0 3025.0,362.0\" fill=\"none\" stroke=\"currentColor\"/>\n",
       "    <text dy=\"1.25em\" style=\"font-size: 0.8em; letter-spacing: 1px\">\n",
       "        <textPath xlink:href=\"#arrow-c9aa64d824a848c6b6c8658500f7d508-0-24\" class=\"displacy-label\" startOffset=\"50%\" side=\"left\" fill=\"currentColor\" text-anchor=\"middle\"></textPath>\n",
       "    </text>\n",
       "    <path class=\"displacy-arrowhead\" d=\"M3025.0,364.0 L3033.0,352.0 3017.0,352.0\" fill=\"currentColor\"/>\n",
       "</g>\n",
       "</svg></span>"
      ],
      "text/plain": [
       "<IPython.core.display.HTML object>"
      ]
     },
     "metadata": {},
     "output_type": "display_data"
    }
   ],
   "source": [
    "# display dependency parse tree\n",
    "displacy.render(span, style='dep', jupyter=\"True\", options={'distance': 120})"
   ]
  },
  {
   "cell_type": "code",
   "execution_count": 61,
   "metadata": {},
   "outputs": [
    {
     "data": {
      "text/html": [
       "<span class=\"tex2jax_ignore\"><svg xmlns=\"http://www.w3.org/2000/svg\" xmlns:xlink=\"http://www.w3.org/1999/xlink\" xml:lang=\"en\" id=\"5a85f8a4a67e4d338f33326edd4b0f69-0\" class=\"displacy\" width=\"950\" height=\"337.0\" direction=\"ltr\" style=\"max-width: none; height: 337.0px; color: white; background: black; font-family: Arial; direction: ltr\">\n",
       "<text class=\"displacy-token\" fill=\"currentColor\" text-anchor=\"middle\" y=\"247.0\">\n",
       "    <tspan class=\"displacy-word\" fill=\"currentColor\" x=\"50\">“</tspan>\n",
       "    <tspan class=\"displacy-lemma\" dy=\"2em\" fill=\"currentColor\" x=\"50\">\"</tspan>\n",
       "    <tspan class=\"displacy-tag\" dy=\"2em\" fill=\"currentColor\" x=\"50\">``</tspan>\n",
       "</text>\n",
       "\n",
       "<text class=\"displacy-token\" fill=\"currentColor\" text-anchor=\"middle\" y=\"247.0\">\n",
       "    <tspan class=\"displacy-word\" fill=\"currentColor\" x=\"150\">Ah</tspan>\n",
       "    <tspan class=\"displacy-lemma\" dy=\"2em\" fill=\"currentColor\" x=\"150\">ah</tspan>\n",
       "    <tspan class=\"displacy-tag\" dy=\"2em\" fill=\"currentColor\" x=\"150\">UH</tspan>\n",
       "</text>\n",
       "\n",
       "<text class=\"displacy-token\" fill=\"currentColor\" text-anchor=\"middle\" y=\"247.0\">\n",
       "    <tspan class=\"displacy-word\" fill=\"currentColor\" x=\"250\">daddy,</tspan>\n",
       "    <tspan class=\"displacy-lemma\" dy=\"2em\" fill=\"currentColor\" x=\"250\">daddy</tspan>\n",
       "    <tspan class=\"displacy-tag\" dy=\"2em\" fill=\"currentColor\" x=\"250\">NN</tspan>\n",
       "</text>\n",
       "\n",
       "<text class=\"displacy-token\" fill=\"currentColor\" text-anchor=\"middle\" y=\"247.0\">\n",
       "    <tspan class=\"displacy-word\" fill=\"currentColor\" x=\"350\">I</tspan>\n",
       "    <tspan class=\"displacy-lemma\" dy=\"2em\" fill=\"currentColor\" x=\"350\">-PRON-</tspan>\n",
       "    <tspan class=\"displacy-tag\" dy=\"2em\" fill=\"currentColor\" x=\"350\">PRP</tspan>\n",
       "</text>\n",
       "\n",
       "<text class=\"displacy-token\" fill=\"currentColor\" text-anchor=\"middle\" y=\"247.0\">\n",
       "    <tspan class=\"displacy-word\" fill=\"currentColor\" x=\"450\">wanna</tspan>\n",
       "    <tspan class=\"displacy-lemma\" dy=\"2em\" fill=\"currentColor\" x=\"450\">wanna</tspan>\n",
       "    <tspan class=\"displacy-tag\" dy=\"2em\" fill=\"currentColor\" x=\"450\">MD</tspan>\n",
       "</text>\n",
       "\n",
       "<text class=\"displacy-token\" fill=\"currentColor\" text-anchor=\"middle\" y=\"247.0\">\n",
       "    <tspan class=\"displacy-word\" fill=\"currentColor\" x=\"550\">stay</tspan>\n",
       "    <tspan class=\"displacy-lemma\" dy=\"2em\" fill=\"currentColor\" x=\"550\">stay</tspan>\n",
       "    <tspan class=\"displacy-tag\" dy=\"2em\" fill=\"currentColor\" x=\"550\">VBP</tspan>\n",
       "</text>\n",
       "\n",
       "<text class=\"displacy-token\" fill=\"currentColor\" text-anchor=\"middle\" y=\"247.0\">\n",
       "    <tspan class=\"displacy-word\" fill=\"currentColor\" x=\"650\">drunk</tspan>\n",
       "    <tspan class=\"displacy-lemma\" dy=\"2em\" fill=\"currentColor\" x=\"650\">drunk</tspan>\n",
       "    <tspan class=\"displacy-tag\" dy=\"2em\" fill=\"currentColor\" x=\"650\">JJ</tspan>\n",
       "</text>\n",
       "\n",
       "<text class=\"displacy-token\" fill=\"currentColor\" text-anchor=\"middle\" y=\"247.0\">\n",
       "    <tspan class=\"displacy-word\" fill=\"currentColor\" x=\"750\">many</tspan>\n",
       "    <tspan class=\"displacy-lemma\" dy=\"2em\" fill=\"currentColor\" x=\"750\">many</tspan>\n",
       "    <tspan class=\"displacy-tag\" dy=\"2em\" fill=\"currentColor\" x=\"750\">JJ</tspan>\n",
       "</text>\n",
       "\n",
       "<text class=\"displacy-token\" fill=\"currentColor\" text-anchor=\"middle\" y=\"247.0\">\n",
       "    <tspan class=\"displacy-word\" fill=\"currentColor\" x=\"850\">days”</tspan>\n",
       "    <tspan class=\"displacy-lemma\" dy=\"2em\" fill=\"currentColor\" x=\"850\">day</tspan>\n",
       "    <tspan class=\"displacy-tag\" dy=\"2em\" fill=\"currentColor\" x=\"850\">NNS</tspan>\n",
       "</text>\n",
       "\n",
       "<g class=\"displacy-arrow\">\n",
       "    <path class=\"displacy-arc\" id=\"arrow-5a85f8a4a67e4d338f33326edd4b0f69-0-0\" stroke-width=\"2px\" d=\"M62,202.0 62,135.33333333333331 550.0,135.33333333333331 550.0,202.0\" fill=\"none\" stroke=\"currentColor\"/>\n",
       "    <text dy=\"1.25em\" style=\"font-size: 0.8em; letter-spacing: 1px\">\n",
       "        <textPath xlink:href=\"#arrow-5a85f8a4a67e4d338f33326edd4b0f69-0-0\" class=\"displacy-label\" startOffset=\"50%\" side=\"left\" fill=\"currentColor\" text-anchor=\"middle\">punct</textPath>\n",
       "    </text>\n",
       "    <path class=\"displacy-arrowhead\" d=\"M62,204.0 L58,196.0 66,196.0\" fill=\"currentColor\"/>\n",
       "</g>\n",
       "\n",
       "<g class=\"displacy-arrow\">\n",
       "    <path class=\"displacy-arc\" id=\"arrow-5a85f8a4a67e4d338f33326edd4b0f69-0-1\" stroke-width=\"2px\" d=\"M162,202.0 162,152.0 447.0,152.0 447.0,202.0\" fill=\"none\" stroke=\"currentColor\"/>\n",
       "    <text dy=\"1.25em\" style=\"font-size: 0.8em; letter-spacing: 1px\">\n",
       "        <textPath xlink:href=\"#arrow-5a85f8a4a67e4d338f33326edd4b0f69-0-1\" class=\"displacy-label\" startOffset=\"50%\" side=\"left\" fill=\"currentColor\" text-anchor=\"middle\">intj</textPath>\n",
       "    </text>\n",
       "    <path class=\"displacy-arrowhead\" d=\"M162,204.0 L158,196.0 166,196.0\" fill=\"currentColor\"/>\n",
       "</g>\n",
       "\n",
       "<g class=\"displacy-arrow\">\n",
       "    <path class=\"displacy-arc\" id=\"arrow-5a85f8a4a67e4d338f33326edd4b0f69-0-2\" stroke-width=\"2px\" d=\"M162,202.0 162,185.33333333333334 241.0,185.33333333333334 241.0,202.0\" fill=\"none\" stroke=\"currentColor\"/>\n",
       "    <text dy=\"1.25em\" style=\"font-size: 0.8em; letter-spacing: 1px\">\n",
       "        <textPath xlink:href=\"#arrow-5a85f8a4a67e4d338f33326edd4b0f69-0-2\" class=\"displacy-label\" startOffset=\"50%\" side=\"left\" fill=\"currentColor\" text-anchor=\"middle\">intj</textPath>\n",
       "    </text>\n",
       "    <path class=\"displacy-arrowhead\" d=\"M241.0,204.0 L245.0,196.0 237.0,196.0\" fill=\"currentColor\"/>\n",
       "</g>\n",
       "\n",
       "<g class=\"displacy-arrow\">\n",
       "    <path class=\"displacy-arc\" id=\"arrow-5a85f8a4a67e4d338f33326edd4b0f69-0-3\" stroke-width=\"2px\" d=\"M362,202.0 362,185.33333333333334 441.0,185.33333333333334 441.0,202.0\" fill=\"none\" stroke=\"currentColor\"/>\n",
       "    <text dy=\"1.25em\" style=\"font-size: 0.8em; letter-spacing: 1px\">\n",
       "        <textPath xlink:href=\"#arrow-5a85f8a4a67e4d338f33326edd4b0f69-0-3\" class=\"displacy-label\" startOffset=\"50%\" side=\"left\" fill=\"currentColor\" text-anchor=\"middle\">nsubj</textPath>\n",
       "    </text>\n",
       "    <path class=\"displacy-arrowhead\" d=\"M362,204.0 L358,196.0 366,196.0\" fill=\"currentColor\"/>\n",
       "</g>\n",
       "\n",
       "<g class=\"displacy-arrow\">\n",
       "    <path class=\"displacy-arc\" id=\"arrow-5a85f8a4a67e4d338f33326edd4b0f69-0-4\" stroke-width=\"2px\" d=\"M462,202.0 462,185.33333333333334 541.0,185.33333333333334 541.0,202.0\" fill=\"none\" stroke=\"currentColor\"/>\n",
       "    <text dy=\"1.25em\" style=\"font-size: 0.8em; letter-spacing: 1px\">\n",
       "        <textPath xlink:href=\"#arrow-5a85f8a4a67e4d338f33326edd4b0f69-0-4\" class=\"displacy-label\" startOffset=\"50%\" side=\"left\" fill=\"currentColor\" text-anchor=\"middle\">nsubj</textPath>\n",
       "    </text>\n",
       "    <path class=\"displacy-arrowhead\" d=\"M462,204.0 L458,196.0 466,196.0\" fill=\"currentColor\"/>\n",
       "</g>\n",
       "\n",
       "<g class=\"displacy-arrow\">\n",
       "    <path class=\"displacy-arc\" id=\"arrow-5a85f8a4a67e4d338f33326edd4b0f69-0-5\" stroke-width=\"2px\" d=\"M562,202.0 562,185.33333333333334 641.0,185.33333333333334 641.0,202.0\" fill=\"none\" stroke=\"currentColor\"/>\n",
       "    <text dy=\"1.25em\" style=\"font-size: 0.8em; letter-spacing: 1px\">\n",
       "        <textPath xlink:href=\"#arrow-5a85f8a4a67e4d338f33326edd4b0f69-0-5\" class=\"displacy-label\" startOffset=\"50%\" side=\"left\" fill=\"currentColor\" text-anchor=\"middle\">acomp</textPath>\n",
       "    </text>\n",
       "    <path class=\"displacy-arrowhead\" d=\"M641.0,204.0 L645.0,196.0 637.0,196.0\" fill=\"currentColor\"/>\n",
       "</g>\n",
       "\n",
       "<g class=\"displacy-arrow\">\n",
       "    <path class=\"displacy-arc\" id=\"arrow-5a85f8a4a67e4d338f33326edd4b0f69-0-6\" stroke-width=\"2px\" d=\"M762,202.0 762,185.33333333333334 841.0,185.33333333333334 841.0,202.0\" fill=\"none\" stroke=\"currentColor\"/>\n",
       "    <text dy=\"1.25em\" style=\"font-size: 0.8em; letter-spacing: 1px\">\n",
       "        <textPath xlink:href=\"#arrow-5a85f8a4a67e4d338f33326edd4b0f69-0-6\" class=\"displacy-label\" startOffset=\"50%\" side=\"left\" fill=\"currentColor\" text-anchor=\"middle\">amod</textPath>\n",
       "    </text>\n",
       "    <path class=\"displacy-arrowhead\" d=\"M762,204.0 L758,196.0 766,196.0\" fill=\"currentColor\"/>\n",
       "</g>\n",
       "\n",
       "<g class=\"displacy-arrow\">\n",
       "    <path class=\"displacy-arc\" id=\"arrow-5a85f8a4a67e4d338f33326edd4b0f69-0-7\" stroke-width=\"2px\" d=\"M662,202.0 662,168.66666666666666 844.0,168.66666666666666 844.0,202.0\" fill=\"none\" stroke=\"currentColor\"/>\n",
       "    <text dy=\"1.25em\" style=\"font-size: 0.8em; letter-spacing: 1px\">\n",
       "        <textPath xlink:href=\"#arrow-5a85f8a4a67e4d338f33326edd4b0f69-0-7\" class=\"displacy-label\" startOffset=\"50%\" side=\"left\" fill=\"currentColor\" text-anchor=\"middle\">npadvmod</textPath>\n",
       "    </text>\n",
       "    <path class=\"displacy-arrowhead\" d=\"M844.0,204.0 L848.0,196.0 840.0,196.0\" fill=\"currentColor\"/>\n",
       "</g>\n",
       "</svg></span>"
      ],
      "text/plain": [
       "<IPython.core.display.HTML object>"
      ]
     },
     "metadata": {},
     "output_type": "display_data"
    }
   ],
   "source": [
    "# display dependency parse tree with additional options set\n",
    "options = {'distance':100, 'color':'white', 'bg':'black', 'compact':'True', 'font':'Arial', 'add_lemma':'False', 'fine_grained':'True'}\n",
    "displacy.render(quote, style='dep', jupyter=\"True\", options = options)"
   ]
  },
  {
   "cell_type": "code",
   "execution_count": 62,
   "metadata": {},
   "outputs": [
    {
     "data": {
      "text/html": [
       "<span class=\"tex2jax_ignore\"><div class=\"entities\" style=\"line-height: 2.5; direction: ltr\">Having a coke with you is even more fun than going to \n",
       "<mark class=\"entity\" style=\"background: #feca74; padding: 0.45em 0.6em; margin: 0 0.25em; line-height: 1; border-radius: 0.35em;\">\n",
       "    San Sebastian\n",
       "    <span style=\"font-size: 0.8em; font-weight: bold; line-height: 1; border-radius: 0.35em; text-transform: uppercase; vertical-align: middle; margin-left: 0.5rem\">GPE</span>\n",
       "</mark>\n",
       ", \n",
       "<mark class=\"entity\" style=\"background: #feca74; padding: 0.45em 0.6em; margin: 0 0.25em; line-height: 1; border-radius: 0.35em;\">\n",
       "    Irún\n",
       "    <span style=\"font-size: 0.8em; font-weight: bold; line-height: 1; border-radius: 0.35em; text-transform: uppercase; vertical-align: middle; margin-left: 0.5rem\">GPE</span>\n",
       "</mark>\n",
       ", \n",
       "<mark class=\"entity\" style=\"background: #feca74; padding: 0.45em 0.6em; margin: 0 0.25em; line-height: 1; border-radius: 0.35em;\">\n",
       "    Hendaye\n",
       "    <span style=\"font-size: 0.8em; font-weight: bold; line-height: 1; border-radius: 0.35em; text-transform: uppercase; vertical-align: middle; margin-left: 0.5rem\">GPE</span>\n",
       "</mark>\n",
       ", \n",
       "<mark class=\"entity\" style=\"background: #7aecec; padding: 0.45em 0.6em; margin: 0 0.25em; line-height: 1; border-radius: 0.35em;\">\n",
       "    Biarritz\n",
       "    <span style=\"font-size: 0.8em; font-weight: bold; line-height: 1; border-radius: 0.35em; text-transform: uppercase; vertical-align: middle; margin-left: 0.5rem\">ORG</span>\n",
       "</mark>\n",
       ", \n",
       "<mark class=\"entity\" style=\"background: #feca74; padding: 0.45em 0.6em; margin: 0 0.25em; line-height: 1; border-radius: 0.35em;\">\n",
       "    Bayonne\n",
       "    <span style=\"font-size: 0.8em; font-weight: bold; line-height: 1; border-radius: 0.35em; text-transform: uppercase; vertical-align: middle; margin-left: 0.5rem\">GPE</span>\n",
       "</mark>\n",
       " or being sick to my stomach on \n",
       "<mark class=\"entity\" style=\"background: #ddd; padding: 0.45em 0.6em; margin: 0 0.25em; line-height: 1; border-radius: 0.35em;\">\n",
       "    the Travesera de Gracia\n",
       "    <span style=\"font-size: 0.8em; font-weight: bold; line-height: 1; border-radius: 0.35em; text-transform: uppercase; vertical-align: middle; margin-left: 0.5rem\">FAC</span>\n",
       "</mark>\n",
       " in \n",
       "<mark class=\"entity\" style=\"background: #feca74; padding: 0.45em 0.6em; margin: 0 0.25em; line-height: 1; border-radius: 0.35em;\">\n",
       "    Barcelona\n",
       "    <span style=\"font-size: 0.8em; font-weight: bold; line-height: 1; border-radius: 0.35em; text-transform: uppercase; vertical-align: middle; margin-left: 0.5rem\">GPE</span>\n",
       "</mark>\n",
       " partly because in your orange shirt you look like a better happier \n",
       "<mark class=\"entity\" style=\"background: #feca74; padding: 0.45em 0.6em; margin: 0 0.25em; line-height: 1; border-radius: 0.35em;\">\n",
       "    St. Sebastian\n",
       "    <span style=\"font-size: 0.8em; font-weight: bold; line-height: 1; border-radius: 0.35em; text-transform: uppercase; vertical-align: middle; margin-left: 0.5rem\">GPE</span>\n",
       "</mark>\n",
       "... </br>...in the warm \n",
       "<mark class=\"entity\" style=\"background: #feca74; padding: 0.45em 0.6em; margin: 0 0.25em; line-height: 1; border-radius: 0.35em;\">\n",
       "    New York\n",
       "    <span style=\"font-size: 0.8em; font-weight: bold; line-height: 1; border-radius: 0.35em; text-transform: uppercase; vertical-align: middle; margin-left: 0.5rem\">GPE</span>\n",
       "</mark>\n",
       " \n",
       "<mark class=\"entity\" style=\"background: #bfe1d9; padding: 0.45em 0.6em; margin: 0 0.25em; line-height: 1; border-radius: 0.35em;\">\n",
       "    4 o’clock\n",
       "    <span style=\"font-size: 0.8em; font-weight: bold; line-height: 1; border-radius: 0.35em; text-transform: uppercase; vertical-align: middle; margin-left: 0.5rem\">TIME</span>\n",
       "</mark>\n",
       " light we are drifting back and forth...</br>...except possibly for the \n",
       "<mark class=\"entity\" style=\"background: #c887fb; padding: 0.45em 0.6em; margin: 0 0.25em; line-height: 1; border-radius: 0.35em;\">\n",
       "    Polish\n",
       "    <span style=\"font-size: 0.8em; font-weight: bold; line-height: 1; border-radius: 0.35em; text-transform: uppercase; vertical-align: middle; margin-left: 0.5rem\">NORP</span>\n",
       "</mark>\n",
       " Rider occasionally and anyway it’s in the \n",
       "<mark class=\"entity\" style=\"background: #feca74; padding: 0.45em 0.6em; margin: 0 0.25em; line-height: 1; border-radius: 0.35em;\">\n",
       "    Frick\n",
       "    <span style=\"font-size: 0.8em; font-weight: bold; line-height: 1; border-radius: 0.35em; text-transform: uppercase; vertical-align: middle; margin-left: 0.5rem\">GPE</span>\n",
       "</mark>\n",
       "...</br>... and the fact that you move so beautifully more or less takes care of \n",
       "<mark class=\"entity\" style=\"background: #c887fb; padding: 0.45em 0.6em; margin: 0 0.25em; line-height: 1; border-radius: 0.35em;\">\n",
       "    Futurism\n",
       "    <span style=\"font-size: 0.8em; font-weight: bold; line-height: 1; border-radius: 0.35em; text-transform: uppercase; vertical-align: middle; margin-left: 0.5rem\">NORP</span>\n",
       "</mark>\n",
       " just as at home I never think of the Nude Descending a Staircase or at a rehearsal a single drawing of \n",
       "<mark class=\"entity\" style=\"background: #aa9cfc; padding: 0.45em 0.6em; margin: 0 0.25em; line-height: 1; border-radius: 0.35em;\">\n",
       "    Leonardo\n",
       "    <span style=\"font-size: 0.8em; font-weight: bold; line-height: 1; border-radius: 0.35em; text-transform: uppercase; vertical-align: middle; margin-left: 0.5rem\">PERSON</span>\n",
       "</mark>\n",
       " or \n",
       "<mark class=\"entity\" style=\"background: #aa9cfc; padding: 0.45em 0.6em; margin: 0 0.25em; line-height: 1; border-radius: 0.35em;\">\n",
       "    Michelangelo\n",
       "    <span style=\"font-size: 0.8em; font-weight: bold; line-height: 1; border-radius: 0.35em; text-transform: uppercase; vertical-align: middle; margin-left: 0.5rem\">PERSON</span>\n",
       "</mark>\n",
       " that used to wow me</div></span>"
      ],
      "text/plain": [
       "<IPython.core.display.HTML object>"
      ]
     },
     "metadata": {},
     "output_type": "display_data"
    }
   ],
   "source": [
    "# display named entities\n",
    "displacy.render(doc2, style='ent', jupyter='True')"
   ]
  },
  {
   "cell_type": "code",
   "execution_count": 63,
   "metadata": {},
   "outputs": [
    {
     "data": {
      "text/html": [
       "<span class=\"tex2jax_ignore\"><div class=\"entities\" style=\"line-height: 2.5; direction: ltr\">Having a coke with you is even more fun than going to San Sebastian, Irún, Hendaye, Biarritz, Bayonne or being sick to my stomach on the Travesera de Gracia in Barcelona partly because in your orange shirt you look like a better happier St. Sebastian... \n",
       "...</div></span>"
      ],
      "text/plain": [
       "<IPython.core.display.HTML object>"
      ]
     },
     "metadata": {},
     "output_type": "display_data"
    },
    {
     "data": {
      "text/html": [
       "<span class=\"tex2jax_ignore\"><div class=\"entities\" style=\"line-height: 2.5; direction: ltr\">in the warm New York \n",
       "<mark class=\"entity\" style=\"background: #bfe1d9; padding: 0.45em 0.6em; margin: 0 0.25em; line-height: 1; border-radius: 0.35em;\">\n",
       "    4 o’clock\n",
       "    <span style=\"font-size: 0.8em; font-weight: bold; line-height: 1; border-radius: 0.35em; text-transform: uppercase; vertical-align: middle; margin-left: 0.5rem\">TIME</span>\n",
       "</mark>\n",
       " light we are drifting back and forth...</br>...except possibly for the Polish Rider occasionally</div></span>"
      ],
      "text/plain": [
       "<IPython.core.display.HTML object>"
      ]
     },
     "metadata": {},
     "output_type": "display_data"
    },
    {
     "data": {
      "text/html": [
       "<span class=\"tex2jax_ignore\"><div class=\"entities\" style=\"line-height: 2.5; direction: ltr\">and anyway it’s in the Frick...\n",
       "...</div></span>"
      ],
      "text/plain": [
       "<IPython.core.display.HTML object>"
      ]
     },
     "metadata": {},
     "output_type": "display_data"
    },
    {
     "name": "stdout",
     "output_type": "stream",
     "text": [
      "and the fact that you move\n"
     ]
    },
    {
     "data": {
      "text/html": [
       "<span class=\"tex2jax_ignore\"><div class=\"entities\" style=\"line-height: 2.5; direction: ltr\">so beautifully more or less takes care of Futurism just as at home I never think of the Nude Descending a Staircase or at a rehearsal a single drawing of Leonardo or Michelangelo that used to wow me</div></span>"
      ],
      "text/plain": [
       "<IPython.core.display.HTML object>"
      ]
     },
     "metadata": {},
     "output_type": "display_data"
    }
   ],
   "source": [
    "# display specific named entities, line by line\n",
    "for sent in doc2.sents:\n",
    "    docx = nlp(sent.text)\n",
    "    # if no ner is found, just print the text -- this is to avoid an error message appearing\n",
    "    if docx.ents:\n",
    "        displacy.render(docx, style='ent', jupyter='True', options={'ents':'TIME'})\n",
    "    else:\n",
    "        print(docx.text)"
   ]
  },
  {
   "cell_type": "code",
   "execution_count": 64,
   "metadata": {},
   "outputs": [],
   "source": [
    "# visualisation outside jupyter : http://127.0.0.1:5000\n",
    "# displacy.serve(quote, style='dep')"
   ]
  },
  {
   "cell_type": "markdown",
   "metadata": {},
   "source": [
    "# Matching"
   ]
  },
  {
   "cell_type": "code",
   "execution_count": 65,
   "metadata": {},
   "outputs": [],
   "source": [
    "from spacy.matcher import Matcher\n",
    "matcher = Matcher(nlp.vocab)"
   ]
  },
  {
   "cell_type": "code",
   "execution_count": 66,
   "metadata": {},
   "outputs": [],
   "source": [
    "pattern1 = [{'LOWER': 'ferde', 'OP': '?'}, {'IS_SPACE': True, 'OP': '+'} ,{'LOWER': 'ferenc'}]\n",
    "pattern2 = [{'LOWER': 'ferde'}]\n",
    "\n",
    "matcher.add('név', None, pattern1, pattern2)"
   ]
  },
  {
   "cell_type": "code",
   "execution_count": 67,
   "metadata": {},
   "outputs": [],
   "source": [
    "doc3 = nlp(u'A hivatalnok felírta Ferde Ferenc nevét a táblára, de a Ferde vezetéknevet elírta, Ferduként, a Ferenc pedig lemaradt.')"
   ]
  },
  {
   "cell_type": "code",
   "execution_count": 68,
   "metadata": {},
   "outputs": [
    {
     "name": "stdout",
     "output_type": "stream",
     "text": [
      "[(16779574398397773062, 3, 4), (16779574398397773062, 11, 12)]\n"
     ]
    }
   ],
   "source": [
    "# return matchen in doc: id, start, end\n",
    "matches = matcher(doc3)\n",
    "print(matches)"
   ]
  },
  {
   "cell_type": "code",
   "execution_count": 69,
   "metadata": {},
   "outputs": [
    {
     "name": "stdout",
     "output_type": "stream",
     "text": [
      "16779574398397773062 név 3 4 slightly\n",
      "16779574398397773062 név 11 12 a\n"
     ]
    }
   ],
   "source": [
    "for match_id, start, end in matches:\n",
    "    string_id = nlp.vocab.strings[match_id]  # get string representation\n",
    "    span = doc[start:end]                    # get the matched span\n",
    "    print(match_id, string_id, start, end, span.text)"
   ]
  }
 ],
 "metadata": {
  "kernelspec": {
   "display_name": "Python 3",
   "language": "python",
   "name": "python3"
  },
  "language_info": {
   "codemirror_mode": {
    "name": "ipython",
    "version": 3
   },
   "file_extension": ".py",
   "mimetype": "text/x-python",
   "name": "python",
   "nbconvert_exporter": "python",
   "pygments_lexer": "ipython3",
   "version": "3.6.4"
  }
 },
 "nbformat": 4,
 "nbformat_minor": 2
}
