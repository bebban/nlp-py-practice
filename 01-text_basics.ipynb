{
 "cells": [
  {
   "cell_type": "code",
   "execution_count": null,
   "metadata": {},
   "outputs": [],
   "source": [
    "#Python Text basics practice notebook"
   ]
  },
  {
   "cell_type": "code",
   "execution_count": null,
   "metadata": {},
   "outputs": [],
   "source": [
    "notebook_name = 'text basics'\n",
    "# printing f-strings\n",
    "print(f\"I shall practice some {notebook_name}\")"
   ]
  },
  {
   "cell_type": "code",
   "execution_count": null,
   "metadata": {},
   "outputs": [],
   "source": [
    "# print string representation\n",
    "print(f\"The title of this notebook is {notebook_name!r}\")"
   ]
  },
  {
   "cell_type": "code",
   "execution_count": null,
   "metadata": {},
   "outputs": [],
   "source": [
    "library = [('Author', 'Title', 'Have-Read'), ('Bodor Ádám', 'Verhovina Madarai', 0), ('Závada Pál', 'A fényképész utókora', 1), ('Ljudmila Petrusevszkaja', 'Rémtörténetek', 1), ('Henry Miller', 'Tropic of Cancer', 0)]\n",
    "# print contents of list\n",
    "for book in library:\n",
    "    title = book[1]\n",
    "    print(title)"
   ]
  },
  {
   "cell_type": "code",
   "execution_count": null,
   "metadata": {},
   "outputs": [],
   "source": [
    "# print contents of dictionary\n",
    "for book in library:\n",
    "    print(f\"{book[0]:{25}} {book[1]:{20}} {book[2]:{5}}\")"
   ]
  },
  {
   "cell_type": "code",
   "execution_count": null,
   "metadata": {},
   "outputs": [],
   "source": [
    "book_dict = {'Bodor Ádám':'Verhovina Madarai', 'Závada Pál':'A fényképész utókora', 'Ljudmila Petrusevszkaja':'Rémtörténetek', 'Henry Miller':'Tropic of Cancer'}\n",
    "\n",
    "print(f\"I have really enjoyed {book_dict['Závada Pál']!r}\")\n",
    "            "
   ]
  },
  {
   "cell_type": "code",
   "execution_count": null,
   "metadata": {},
   "outputs": [],
   "source": [
    "for key in book_dict:\n",
    "    print(f\"I would like to read {book_dict[key]!r} by {key}\")"
   ]
  },
  {
   "cell_type": "code",
   "execution_count": null,
   "metadata": {},
   "outputs": [],
   "source": [
    "# show notebook location\n",
    "pwd"
   ]
  },
  {
   "cell_type": "code",
   "execution_count": null,
   "metadata": {},
   "outputs": [],
   "source": [
    "# open a file\n",
    "myfile = open('sample_text.txt')\n",
    "myfile "
   ]
  },
  {
   "cell_type": "code",
   "execution_count": null,
   "metadata": {},
   "outputs": [],
   "source": [
    "myfile.seek(0)\n",
    "myfile.read()"
   ]
  },
  {
   "cell_type": "code",
   "execution_count": null,
   "metadata": {},
   "outputs": [],
   "source": [
    "myfile.close()"
   ]
  },
  {
   "cell_type": "code",
   "execution_count": null,
   "metadata": {},
   "outputs": [],
   "source": [
    "# a better way to handle files\n",
    "with open('sample_text.txt') as myfile:\n",
    "    for line in myfile:\n",
    "        print(line)"
   ]
  },
  {
   "cell_type": "code",
   "execution_count": null,
   "metadata": {},
   "outputs": [],
   "source": [
    "myfile.read()    # ValueError: I/O operation on closed file."
   ]
  },
  {
   "cell_type": "code",
   "execution_count": null,
   "metadata": {},
   "outputs": [],
   "source": [
    "# create a text file and append text to it\n",
    "i = 10\n",
    "with open('new_file.txt', 'w+') as mynewfile:\n",
    "    mynewfile.write(\"Ground Control to Major Tom: \\n\")\n",
    "    while i > 5:\n",
    "        mynewfile.write(str(i) + \"\\n\")\n",
    "        i = i-1\n",
    "    mynewfile.write(\"Commencing countdown, engines on. \\n\")\n",
    "    while i > 2:\n",
    "        mynewfile.write(str(i) + \"\\n\")\n",
    "        i = i-1\n",
    "    mynewfile.write(\"Check ignition and may God's love be with you! \\n\")    \n",
    "    while i > 0:\n",
    "        mynewfile.write(str(i) + \"\\n\")\n",
    "        i = i-1\n"
   ]
  },
  {
   "cell_type": "code",
   "execution_count": null,
   "metadata": {},
   "outputs": [],
   "source": [
    "with open('new_file.txt', 'r') as mynewfile:\n",
    "    print(mynewfile.read())"
   ]
  },
  {
   "cell_type": "code",
   "execution_count": null,
   "metadata": {},
   "outputs": [],
   "source": [
    "with open('new_file.txt', mode='a+') as mynewfile:\n",
    "    mynewfile.write(\"Lift-off!\")\n",
    "    mynewfile.seek(0)\n",
    "    print(mynewfile.readlines()[13])"
   ]
  },
  {
   "cell_type": "code",
   "execution_count": null,
   "metadata": {},
   "outputs": [],
   "source": []
  }
 ],
 "metadata": {
  "kernelspec": {
   "display_name": "Python 3",
   "language": "python",
   "name": "python3"
  },
  "language_info": {
   "codemirror_mode": {
    "name": "ipython",
    "version": 3
   },
   "file_extension": ".py",
   "mimetype": "text/x-python",
   "name": "python",
   "nbconvert_exporter": "python",
   "pygments_lexer": "ipython3",
   "version": "3.6.4"
  }
 },
 "nbformat": 4,
 "nbformat_minor": 2
}
