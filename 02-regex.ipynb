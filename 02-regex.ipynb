{
 "cells": [
  {
   "cell_type": "code",
   "execution_count": 12,
   "metadata": {},
   "outputs": [],
   "source": [
    "import re    "
   ]
  },
  {
   "cell_type": "code",
   "execution_count": 17,
   "metadata": {},
   "outputs": [
    {
     "data": {
      "text/plain": [
       "\"Love is an American rock band formed in Los Angeles in 1965. During their period of greatest influence, they were originally led by Arthur Lee who wrote most of their songs, though some of their best-known songs were written by Bryan MacLean. One of the first racially-diverse American rock bands, their music drew on an eclectic range of sources including folk rock, hard rock, blues, jazz, flamenco, mariachi and orchestral pop. While finding only modest success on the music charts, Love would come to be praised by critics as one of the most influential American rock groups of all time. Their third album, Forever Changes (1967), is generally regarded as their masterpiece, and was added to the Library of Congress's National Recording Registry in 2011.\\n\""
      ]
     },
     "execution_count": 17,
     "metadata": {},
     "output_type": "execute_result"
    }
   ],
   "source": [
    "text = open(\"sample_text.txt\").read()\n",
    "text"
   ]
  },
  {
   "cell_type": "code",
   "execution_count": 34,
   "metadata": {},
   "outputs": [
    {
     "name": "stdout",
     "output_type": "stream",
     "text": [
      "3 matches: ['1965', '1967', '2011']\n"
     ]
    }
   ],
   "source": [
    "years = re.findall(r'\\d{4}', text)\n",
    "print(len(years), \"matches:\", years)"
   ]
  },
  {
   "cell_type": "code",
   "execution_count": 75,
   "metadata": {},
   "outputs": [
    {
     "name": "stdout",
     "output_type": "stream",
     "text": [
      "(0, 5)\n",
      "Love \n",
      "(486, 491)\n",
      "Love \n"
     ]
    }
   ],
   "source": [
    "pattern = re.compile(r'L...[\\s]')\n",
    "for match in re.finditer(pattern, text):\n",
    "    print(match.span())\n",
    "    print(match.group())"
   ]
  },
  {
   "cell_type": "code",
   "execution_count": 38,
   "metadata": {},
   "outputs": [
    {
     "data": {
      "text/plain": [
       "'Love'"
      ]
     },
     "execution_count": 38,
     "metadata": {},
     "output_type": "execute_result"
    }
   ],
   "source": [
    "match.group()"
   ]
  },
  {
   "cell_type": "code",
   "execution_count": 76,
   "metadata": {},
   "outputs": [
    {
     "name": "stdout",
     "output_type": "stream",
     "text": [
      "2 articles found in the text\n",
      "['an', 'an']\n"
     ]
    }
   ],
   "source": [
    "articles = re.findall(r'\\s(a|an)\\s', text)\n",
    "print(len(articles), \"articles found in the text\")\n",
    "print(articles)"
   ]
  },
  {
   "cell_type": "code",
   "execution_count": 83,
   "metadata": {},
   "outputs": [
    {
     "data": {
      "text/plain": [
       "['Love',\n",
       " 'is',\n",
       " 'an',\n",
       " 'American',\n",
       " 'rock',\n",
       " 'band',\n",
       " 'formed',\n",
       " 'in',\n",
       " 'Los',\n",
       " 'Angeles',\n",
       " 'in',\n",
       " '1965',\n",
       " 'During',\n",
       " 'their',\n",
       " 'period',\n",
       " 'of',\n",
       " 'greatest',\n",
       " 'influence',\n",
       " 'they',\n",
       " 'were',\n",
       " 'originally',\n",
       " 'led',\n",
       " 'by',\n",
       " 'Arthur',\n",
       " 'Lee',\n",
       " 'who',\n",
       " 'wrote',\n",
       " 'most',\n",
       " 'of',\n",
       " 'their',\n",
       " 'songs',\n",
       " 'though',\n",
       " 'some',\n",
       " 'of',\n",
       " 'their',\n",
       " 'best',\n",
       " 'known',\n",
       " 'songs',\n",
       " 'were',\n",
       " 'written',\n",
       " 'by',\n",
       " 'Bryan',\n",
       " 'MacLean',\n",
       " 'One',\n",
       " 'of',\n",
       " 'the',\n",
       " 'first',\n",
       " 'racially',\n",
       " 'diverse',\n",
       " 'American',\n",
       " 'rock',\n",
       " 'bands',\n",
       " 'their',\n",
       " 'music',\n",
       " 'drew',\n",
       " 'on',\n",
       " 'an',\n",
       " 'eclectic',\n",
       " 'range',\n",
       " 'of',\n",
       " 'sources',\n",
       " 'including',\n",
       " 'folk',\n",
       " 'rock',\n",
       " 'hard',\n",
       " 'rock',\n",
       " 'blues',\n",
       " 'jazz',\n",
       " 'flamenco',\n",
       " 'mariachi',\n",
       " 'and',\n",
       " 'orchestral',\n",
       " 'pop',\n",
       " 'While',\n",
       " 'finding',\n",
       " 'only',\n",
       " 'modest',\n",
       " 'success',\n",
       " 'on',\n",
       " 'the',\n",
       " 'music',\n",
       " 'charts',\n",
       " 'Love',\n",
       " 'would',\n",
       " 'come',\n",
       " 'to',\n",
       " 'be',\n",
       " 'praised',\n",
       " 'by',\n",
       " 'critics',\n",
       " 'as',\n",
       " 'one',\n",
       " 'of',\n",
       " 'the',\n",
       " 'most',\n",
       " 'influential',\n",
       " 'American',\n",
       " 'rock',\n",
       " 'groups',\n",
       " 'of',\n",
       " 'all',\n",
       " 'time',\n",
       " 'Their',\n",
       " 'third',\n",
       " 'album',\n",
       " 'Forever',\n",
       " 'Changes',\n",
       " '1967',\n",
       " 'is',\n",
       " 'generally',\n",
       " 'regarded',\n",
       " 'as',\n",
       " 'their',\n",
       " 'masterpiece',\n",
       " 'and',\n",
       " 'was',\n",
       " 'added',\n",
       " 'to',\n",
       " 'the',\n",
       " 'Library',\n",
       " 'of',\n",
       " 'Congress',\n",
       " 's',\n",
       " 'National',\n",
       " 'Recording',\n",
       " 'Registry',\n",
       " 'in',\n",
       " '2011']"
      ]
     },
     "execution_count": 83,
     "metadata": {},
     "output_type": "execute_result"
    }
   ],
   "source": [
    "re.findall('[^\\W]+', text)"
   ]
  },
  {
   "cell_type": "code",
   "execution_count": 85,
   "metadata": {},
   "outputs": [
    {
     "data": {
      "text/plain": [
       "['.',\n",
       " ',',\n",
       " ',',\n",
       " '-',\n",
       " '.',\n",
       " '-',\n",
       " ',',\n",
       " ',',\n",
       " ',',\n",
       " ',',\n",
       " ',',\n",
       " ',',\n",
       " '.',\n",
       " ',',\n",
       " '.',\n",
       " ',',\n",
       " '(',\n",
       " '),',\n",
       " ',',\n",
       " \"'\",\n",
       " '.']"
      ]
     },
     "execution_count": 85,
     "metadata": {},
     "output_type": "execute_result"
    }
   ],
   "source": [
    "re.findall('[^\\w\\s]+', text)"
   ]
  }
 ],
 "metadata": {
  "kernelspec": {
   "display_name": "Python 3",
   "language": "python",
   "name": "python3"
  },
  "language_info": {
   "codemirror_mode": {
    "name": "ipython",
    "version": 3
   },
   "file_extension": ".py",
   "mimetype": "text/x-python",
   "name": "python",
   "nbconvert_exporter": "python",
   "pygments_lexer": "ipython3",
   "version": "3.6.4"
  }
 },
 "nbformat": 4,
 "nbformat_minor": 2
}
