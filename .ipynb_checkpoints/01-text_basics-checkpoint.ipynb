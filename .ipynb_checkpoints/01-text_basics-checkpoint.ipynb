{
 "cells": [
  {
   "cell_type": "code",
   "execution_count": 3,
   "metadata": {},
   "outputs": [],
   "source": [
    "#Python Text basics practice notebook"
   ]
  },
  {
   "cell_type": "code",
   "execution_count": 4,
   "metadata": {},
   "outputs": [
    {
     "name": "stdout",
     "output_type": "stream",
     "text": [
      "I shall practice some text basics\n"
     ]
    }
   ],
   "source": [
    "notebook_name = 'text basics'\n",
    "# printing f-strings\n",
    "print(f\"I shall practice some {notebook_name}\")"
   ]
  },
  {
   "cell_type": "code",
   "execution_count": 9,
   "metadata": {},
   "outputs": [
    {
     "name": "stdout",
     "output_type": "stream",
     "text": [
      "The title of this notebook is 'text basics'\n"
     ]
    }
   ],
   "source": [
    "# print string representation\n",
    "print(f\"The title of this notebook is {notebook_name!r}\")"
   ]
  },
  {
   "cell_type": "code",
   "execution_count": 16,
   "metadata": {},
   "outputs": [
    {
     "name": "stdout",
     "output_type": "stream",
     "text": [
      "Title\n",
      "Verhovina Madarai\n",
      "A fényképész utókora\n",
      "Rémtörténetek\n",
      "Tropic of Cancer\n"
     ]
    }
   ],
   "source": [
    "library = [('Author', 'Title', 'Have-Read'), ('Bodor Ádám', 'Verhovina Madarai', 0), ('Závada Pál', 'A fényképész utókora', 1), ('Ljudmila Petrusevszkaja', 'Rémtörténetek', 1), ('Henry Miller', 'Tropic of Cancer', 0)]\n",
    "# print contents of list\n",
    "for book in library:\n",
    "    title = book[1]\n",
    "    print(title)"
   ]
  },
  {
   "cell_type": "code",
   "execution_count": 25,
   "metadata": {},
   "outputs": [
    {
     "name": "stdout",
     "output_type": "stream",
     "text": [
      "Author                    Title                Have-Read\n",
      "Bodor Ádám                Verhovina Madarai        0\n",
      "Závada Pál                A fényképész utókora     1\n",
      "Ljudmila Petrusevszkaja   Rémtörténetek            1\n",
      "Henry Miller              Tropic of Cancer         0\n"
     ]
    }
   ],
   "source": [
    "# print contents of dictionary\n",
    "for book in library:\n",
    "    print(f\"{book[0]:{25}} {book[1]:{20}} {book[2]:{5}}\")"
   ]
  },
  {
   "cell_type": "code",
   "execution_count": 57,
   "metadata": {},
   "outputs": [
    {
     "name": "stdout",
     "output_type": "stream",
     "text": [
      "I have really enjoyed 'A fényképész utókora'\n"
     ]
    }
   ],
   "source": [
    "book_dict = {'Bodor Ádám':'Verhovina Madarai', 'Závada Pál':'A fényképész utókora', 'Ljudmila Petrusevszkaja':'Rémtörténetek', 'Henry Miller':'Tropic of Cancer'}\n",
    "\n",
    "print(f\"I have really enjoyed {book_dict['Závada Pál']!r}\")\n",
    "            "
   ]
  },
  {
   "cell_type": "code",
   "execution_count": 58,
   "metadata": {},
   "outputs": [
    {
     "name": "stdout",
     "output_type": "stream",
     "text": [
      "I would like to read 'Verhovina Madarai' by Bodor Ádám\n",
      "I would like to read 'A fényképész utókora' by Závada Pál\n",
      "I would like to read 'Rémtörténetek' by Ljudmila Petrusevszkaja\n",
      "I would like to read 'Tropic of Cancer' by Henry Miller\n"
     ]
    }
   ],
   "source": [
    "for key in book_dict:\n",
    "    print(f\"I would like to read {book_dict[key]!r} by {key}\")"
   ]
  },
  {
   "cell_type": "code",
   "execution_count": 38,
   "metadata": {},
   "outputs": [
    {
     "data": {
      "text/plain": [
       "'/home/babo/gitpractice/nlp-py-practice'"
      ]
     },
     "execution_count": 38,
     "metadata": {},
     "output_type": "execute_result"
    }
   ],
   "source": [
    "# show notebook location\n",
    "pwd"
   ]
  },
  {
   "cell_type": "code",
   "execution_count": 41,
   "metadata": {},
   "outputs": [
    {
     "data": {
      "text/plain": [
       "<_io.TextIOWrapper name='sample_text.txt' mode='r' encoding='UTF-8'>"
      ]
     },
     "execution_count": 41,
     "metadata": {},
     "output_type": "execute_result"
    }
   ],
   "source": [
    "# open a file\n",
    "myfile = open('sample_text.txt')\n",
    "myfile "
   ]
  },
  {
   "cell_type": "code",
   "execution_count": 46,
   "metadata": {},
   "outputs": [
    {
     "data": {
      "text/plain": [
       "\"Love is an American rock band formed in Los Angeles in 1965. During their period of greatest influence, they were originally led by Arthur Lee who wrote most of their songs, though some of their best-known songs were written by Bryan MacLean. One of the first racially-diverse American rock bands, their music drew on an eclectic range of sources including folk rock, hard rock, blues, jazz, flamenco, mariachi and orchestral pop. While finding only modest success on the music charts, Love would come to be praised by critics as one of the most influential American rock groups of all time. Their third album, Forever Changes (1967), is generally regarded as their masterpiece, and was added to the Library of Congress's National Recording Registry in 2011.\\n\""
      ]
     },
     "execution_count": 46,
     "metadata": {},
     "output_type": "execute_result"
    }
   ],
   "source": [
    "myfile.seek(0)\n",
    "myfile.read()"
   ]
  },
  {
   "cell_type": "code",
   "execution_count": 48,
   "metadata": {},
   "outputs": [],
   "source": [
    "myfile.close()"
   ]
  },
  {
   "cell_type": "code",
   "execution_count": 64,
   "metadata": {},
   "outputs": [
    {
     "name": "stdout",
     "output_type": "stream",
     "text": [
      "Love is an American rock band formed in Los Angeles in 1965. During their period of greatest influence, they were originally led by Arthur Lee who wrote most of their songs, though some of their best-known songs were written by Bryan MacLean. One of the first racially-diverse American rock bands, their music drew on an eclectic range of sources including folk rock, hard rock, blues, jazz, flamenco, mariachi and orchestral pop. While finding only modest success on the music charts, Love would come to be praised by critics as one of the most influential American rock groups of all time. Their third album, Forever Changes (1967), is generally regarded as their masterpiece, and was added to the Library of Congress's National Recording Registry in 2011.\n",
      "\n"
     ]
    }
   ],
   "source": [
    "# a better way to handle files\n",
    "with open('sample_text.txt') as myfile:\n",
    "    for line in myfile:\n",
    "        print(line)"
   ]
  },
  {
   "cell_type": "code",
   "execution_count": 65,
   "metadata": {},
   "outputs": [
    {
     "ename": "ValueError",
     "evalue": "I/O operation on closed file.",
     "output_type": "error",
     "traceback": [
      "\u001b[0;31m---------------------------------------------------------------------------\u001b[0m",
      "\u001b[0;31mValueError\u001b[0m                                Traceback (most recent call last)",
      "\u001b[0;32m<ipython-input-65-f51008fa62ae>\u001b[0m in \u001b[0;36m<module>\u001b[0;34m()\u001b[0m\n\u001b[0;32m----> 1\u001b[0;31m \u001b[0mmyfile\u001b[0m\u001b[0;34m.\u001b[0m\u001b[0mread\u001b[0m\u001b[0;34m(\u001b[0m\u001b[0;34m)\u001b[0m\u001b[0;34m\u001b[0m\u001b[0m\n\u001b[0m",
      "\u001b[0;31mValueError\u001b[0m: I/O operation on closed file."
     ]
    }
   ],
   "source": [
    "myfile.read()    # ValueError: I/O operation on closed file."
   ]
  },
  {
   "cell_type": "code",
   "execution_count": 118,
   "metadata": {},
   "outputs": [],
   "source": [
    "# create a text file and append text to it\n",
    "i = 10\n",
    "with open('new_file.txt', 'w+') as mynewfile:\n",
    "    mynewfile.write(\"Ground Control to Major Tom: \\n\")\n",
    "    while i > 5:\n",
    "        mynewfile.write(str(i) + \"\\n\")\n",
    "        i = i-1\n",
    "    mynewfile.write(\"Commencing countdown, engines on. \\n\")\n",
    "    while i > 2:\n",
    "        mynewfile.write(str(i) + \"\\n\")\n",
    "        i = i-1\n",
    "    mynewfile.write(\"Check ignition and may God's love be with you! \\n\")    \n",
    "    while i > 0:\n",
    "        mynewfile.write(str(i) + \"\\n\")\n",
    "        i = i-1\n"
   ]
  },
  {
   "cell_type": "code",
   "execution_count": 119,
   "metadata": {},
   "outputs": [
    {
     "name": "stdout",
     "output_type": "stream",
     "text": [
      "Ground Control to Major Tom: \n",
      "10\n",
      "9\n",
      "8\n",
      "7\n",
      "6\n",
      "Commencing countdown, engines on. \n",
      "5\n",
      "4\n",
      "3\n",
      "Check ignition and may God's love be with you! \n",
      "2\n",
      "1\n",
      "\n"
     ]
    }
   ],
   "source": [
    "with open('new_file.txt', 'r') as mynewfile:\n",
    "    print(mynewfile.read())"
   ]
  },
  {
   "cell_type": "code",
   "execution_count": 120,
   "metadata": {},
   "outputs": [
    {
     "name": "stdout",
     "output_type": "stream",
     "text": [
      "Lift-off!\n"
     ]
    }
   ],
   "source": [
    "with open('new_file.txt', mode='a+') as mynewfile:\n",
    "    mynewfile.write(\"Lift-off!\")\n",
    "    mynewfile.seek(0)\n",
    "    print(mynewfile.readlines()[13])"
   ]
  },
  {
   "cell_type": "code",
   "execution_count": null,
   "metadata": {},
   "outputs": [],
   "source": []
  }
 ],
 "metadata": {
  "kernelspec": {
   "display_name": "Python 3",
   "language": "python",
   "name": "python3"
  },
  "language_info": {
   "codemirror_mode": {
    "name": "ipython",
    "version": 3
   },
   "file_extension": ".py",
   "mimetype": "text/x-python",
   "name": "python",
   "nbconvert_exporter": "python",
   "pygments_lexer": "ipython3",
   "version": "3.6.4"
  }
 },
 "nbformat": 4,
 "nbformat_minor": 2
}
